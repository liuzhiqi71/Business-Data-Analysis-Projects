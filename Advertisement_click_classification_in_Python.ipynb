{
 "cells": [
  {
   "cell_type": "markdown",
   "metadata": {},
   "source": [
    "# Advertisement Click Classification: A Comprehensive Machine Learning Case Study in Python\n",
    "\n",
    "### Logic of the Code\n",
    "\n",
    "1. **Data Preprocessing and Exploratory Data Analysis (EDA)**:\n",
    "   - **Data Loading and Cleaning**:\n",
    "     - Load the dataset and remove duplicate values.\n",
    "     - Drop irrelevant columns (e.g., `VistID`, `Country_Name`, and `Year`).\n",
    "   - **Data Exploration**:\n",
    "     - Use methods like `head()`, `info()`, `describe()`, and `nunique()` to inspect the dataset.\n",
    "     - Visualize the distribution of target and feature variables using bar charts and histograms.\n",
    "   - **Feature Selection**:\n",
    "     - Use ANOVA tests and Chi-square tests to select features correlated with the target variable.\n",
    "     - Finalize a set of continuous and categorical variables as predictors.\n",
    "\n",
    "2. **Feature Engineering and Data Preparation**:\n",
    "   - **Feature Transformation**:\n",
    "     - Convert binary categorical variables (e.g., `Male`) into numerical values (0/1).\n",
    "     - Use `pd.get_dummies()` to convert nominal categorical variables into dummy variables.\n",
    "   - **Data Normalization**:\n",
    "     - Normalize continuous variables using `MinMaxScaler`.\n",
    "   - **Data Splitting**:\n",
    "     - Split the dataset into training and testing sets (70% training, 30% testing).\n",
    "\n",
    "3. **Machine Learning Modeling and Evaluation**:\n",
    "   - **Model Training**:\n",
    "     - Train models using various machine learning algorithms (Logistic Regression, Decision Tree, Random Forest, AdaBoost, SVM, Naive Bayes).\n",
    "   - **Model Evaluation**:\n",
    "     - Evaluate model performance on the test set using classification reports, confusion matrices, and weighted F1 scores.\n",
    "     - Perform 10-fold cross-validation to assess model stability.\n",
    "   - **Feature Importance**:\n",
    "     - Plot feature importance for models that support it (e.g., Decision Tree, Random Forest, AdaBoost).\n",
    "\n",
    "4. **Model Deployment**:\n",
    "   - **Select the Best Model**:\n",
    "     - Choose AdaBoost as the final model based on performance.\n",
    "   - **Save the Model**:\n",
    "     - Save the model as a `.pkl` file using `pickle`.\n",
    "   - **Create Prediction Function**:\n",
    "     - Define a function `PredictClickStatus` to take input data and return predictions.\n",
    "   - **Deploy API**:\n",
    "     - Use Flask to create a REST API, allowing predictions via HTTP requests.\n",
    "\n",
    "---\n",
    "\n",
    "### Machine Learning Algorithms Used and Their Pros and Cons\n",
    "\n",
    "1. **Logistic Regression**:\n",
    "   - **Pros**:\n",
    "     - Simple and easy to use, suitable for linearly separable data.\n",
    "     - Computationally efficient, works well with large datasets.\n",
    "     - Outputs probabilities, making it interpretable.\n",
    "   - **Cons**:\n",
    "     - Limited ability to model non-linear relationships.\n",
    "     - Sensitive to multicollinearity among features.\n",
    "\n",
    "2. **Decision Tree**:\n",
    "   - **Pros**:\n",
    "     - Easy to understand and interpret; can be visualized.\n",
    "     - No need for feature scaling or normalization.\n",
    "     - Handles non-linear relationships well.\n",
    "   - **Cons**:\n",
    "     - Prone to overfitting, especially with deep trees.\n",
    "     - Sensitive to noise in the data.\n",
    "\n",
    "3. **Random Forest**:\n",
    "   - **Pros**:\n",
    "     - Reduces overfitting by combining multiple decision trees.\n",
    "     - Handles high-dimensional data and missing values well.\n",
    "     - Provides feature importance scores.\n",
    "   - **Cons**:\n",
    "     - Training can be slow, especially with many trees.\n",
    "     - Complex model, harder to interpret.\n",
    "\n",
    "4. **AdaBoost**:\n",
    "   - **Pros**:\n",
    "     - Improves performance by combining multiple weak classifiers (e.g., shallow decision trees).\n",
    "     - Robust to noise in the data.\n",
    "     - Handles non-linear relationships well.\n",
    "   - **Cons**:\n",
    "     - Sensitive to outliers.\n",
    "     - Training can be slow with many weak classifiers.\n",
    "\n",
    "5. **Support Vector Machine (SVM)**:\n",
    "   - **Pros**:\n",
    "     - Effective in high-dimensional spaces, suitable for small datasets.\n",
    "     - Can handle non-linear relationships using kernel functions.\n",
    "   - **Cons**:\n",
    "     - Training is slow for large datasets.\n",
    "     - Sensitive to hyperparameters like `C` and `gamma`.\n",
    "\n",
    "6. **Naive Bayes**:\n",
    "   - **Pros**:\n",
    "     - Simple and efficient, works well with high-dimensional sparse data (e.g., text classification).\n",
    "     - Performs well with small datasets.\n",
    "   - **Cons**:\n",
    "     - Assumes feature independence, which is often unrealistic.\n",
    "     - Limited ability to handle continuous variables.\n",
    "\n",
    "---\n",
    "\n",
    "### Summary\n",
    "\n",
    "- **Logic**:\n",
    "  1. Data preprocessing and exploratory analysis.\n",
    "  2. Feature engineering and data preparation.\n",
    "  3. Train and evaluate multiple machine learning algorithms, then select the best model for deployment.\n",
    "- **Algorithms Used**:\n",
    "  - A total of 6 machine learning algorithms were used: Logistic Regression, Decision Tree, Random Forest, AdaBoost, SVM, and Naive Bayes.\n",
    "- **Best Model**:\n",
    "  - AdaBoost was chosen as the final model for deployment due to its performance and feature importance capabilities."
   ]
  },
  {
   "cell_type": "code",
   "execution_count": 1,
   "metadata": {},
   "outputs": [],
   "source": [
    "# Supressing the warning messages\n",
    "import warnings\n",
    "warnings.filterwarnings('ignore')"
   ]
  },
  {
   "cell_type": "code",
   "execution_count": 2,
   "metadata": {},
   "outputs": [
    {
     "name": "stdout",
     "output_type": "stream",
     "text": [
      "Shape before deleting duplicate values: (6657, 14)\n",
      "Shape after deleting duplicate values: (6657, 14)\n"
     ]
    },
    {
     "data": {
      "application/vnd.microsoft.datawrangler.viewer.v0+json": {
       "columns": [
        {
         "name": "index",
         "rawType": "int64",
         "type": "integer"
        },
        {
         "name": "VistID",
         "rawType": "int64",
         "type": "integer"
        },
        {
         "name": "Time_Spent",
         "rawType": "float64",
         "type": "float"
        },
        {
         "name": "Age",
         "rawType": "int64",
         "type": "integer"
        },
        {
         "name": "Avg_Income",
         "rawType": "float64",
         "type": "float"
        },
        {
         "name": "Internet_Usage",
         "rawType": "float64",
         "type": "float"
        },
        {
         "name": "Ad_Topic",
         "rawType": "object",
         "type": "string"
        },
        {
         "name": "Country_Name",
         "rawType": "object",
         "type": "string"
        },
        {
         "name": "City_code",
         "rawType": "object",
         "type": "string"
        },
        {
         "name": "Male",
         "rawType": "object",
         "type": "string"
        },
        {
         "name": "Time_Period",
         "rawType": "object",
         "type": "string"
        },
        {
         "name": "Weekday",
         "rawType": "object",
         "type": "string"
        },
        {
         "name": "Month",
         "rawType": "object",
         "type": "string"
        },
        {
         "name": "Year",
         "rawType": "int64",
         "type": "integer"
        },
        {
         "name": "Clicked",
         "rawType": "int64",
         "type": "integer"
        }
       ],
       "conversionMethod": "pd.DataFrame",
       "ref": "06da3e80-cbfe-46f1-8b1b-bae75ecd0ed2",
       "rows": [
        [
         "0",
         "5183153",
         "87.97",
         "43",
         "55901.12",
         "185.46",
         "product_11",
         "Serbia",
         "City_5",
         "No",
         "Mid-Night",
         "Thursday",
         "July",
         "2020",
         "0"
        ],
        [
         "1",
         "4023265",
         "51.63",
         "50",
         "39132.0",
         "176.73",
         "product_8",
         "Turkmenistan",
         "City_1",
         "No",
         "Evening",
         "Saturday",
         "June",
         "2020",
         "1"
        ],
        [
         "2",
         "4708083",
         "82.37",
         "38",
         "57032.36",
         "210.6",
         "product_6",
         "Northern Mariana Islands",
         "City_2",
         "No",
         "Morning",
         "Tuesday",
         "January",
         "2020",
         "0"
        ],
        [
         "3",
         "9771815",
         "62.06",
         "45",
         "48868.0",
         "190.05",
         "product_19",
         "South Africa",
         "City_3",
         "Yes",
         "Morning",
         "Thursday",
         "April",
         "2020",
         "1"
        ],
        [
         "4",
         "6451317",
         "77.66",
         "31",
         "61608.23",
         "204.86",
         "product_11",
         "Guadeloupe",
         "City_2",
         "No",
         "Noon",
         "Thursday",
         "January",
         "2020",
         "0"
        ],
        [
         "5",
         "1475237",
         "35.98",
         "38",
         "60813.0",
         "125.2",
         "product_10",
         "Guernsey",
         "City_2",
         "Yes",
         "Early-Morning",
         "Saturday",
         "July",
         "2020",
         "1"
        ],
        [
         "6",
         "5578680",
         "52.7",
         "26",
         "49283.0",
         "140.83",
         "product_1",
         "Anguilla",
         "City_2",
         "Yes",
         "Early-Morning",
         "Tuesday",
         "January",
         "2020",
         "1"
        ],
        [
         "7",
         "4037672",
         "82.58",
         "23",
         "61601.05",
         "183.42",
         "product_8",
         "Switzerland",
         "City_4",
         "No",
         "Noon",
         "Sunday",
         "July",
         "2020",
         "0"
        ],
        [
         "8",
         "5792642",
         "70.96",
         "22",
         "69874.18",
         "198.72",
         "product_29",
         "Niue",
         "City_3",
         "No",
         "Mid-Night",
         "Tuesday",
         "April",
         "2020",
         "0"
        ],
        [
         "9",
         "9377192",
         "56.91",
         "50",
         "21773.22",
         "146.44",
         "product_18",
         "Norfolk Island",
         "City_4",
         "No",
         "Early-Morning",
         "Friday",
         "April",
         "2020",
         "1"
        ]
       ],
       "shape": {
        "columns": 14,
        "rows": 10
       }
      },
      "text/html": [
       "<div>\n",
       "<style scoped>\n",
       "    .dataframe tbody tr th:only-of-type {\n",
       "        vertical-align: middle;\n",
       "    }\n",
       "\n",
       "    .dataframe tbody tr th {\n",
       "        vertical-align: top;\n",
       "    }\n",
       "\n",
       "    .dataframe thead th {\n",
       "        text-align: right;\n",
       "    }\n",
       "</style>\n",
       "<table border=\"1\" class=\"dataframe\">\n",
       "  <thead>\n",
       "    <tr style=\"text-align: right;\">\n",
       "      <th></th>\n",
       "      <th>VistID</th>\n",
       "      <th>Time_Spent</th>\n",
       "      <th>Age</th>\n",
       "      <th>Avg_Income</th>\n",
       "      <th>Internet_Usage</th>\n",
       "      <th>Ad_Topic</th>\n",
       "      <th>Country_Name</th>\n",
       "      <th>City_code</th>\n",
       "      <th>Male</th>\n",
       "      <th>Time_Period</th>\n",
       "      <th>Weekday</th>\n",
       "      <th>Month</th>\n",
       "      <th>Year</th>\n",
       "      <th>Clicked</th>\n",
       "    </tr>\n",
       "  </thead>\n",
       "  <tbody>\n",
       "    <tr>\n",
       "      <th>0</th>\n",
       "      <td>5183153</td>\n",
       "      <td>87.97</td>\n",
       "      <td>43</td>\n",
       "      <td>55901.12</td>\n",
       "      <td>185.46</td>\n",
       "      <td>product_11</td>\n",
       "      <td>Serbia</td>\n",
       "      <td>City_5</td>\n",
       "      <td>No</td>\n",
       "      <td>Mid-Night</td>\n",
       "      <td>Thursday</td>\n",
       "      <td>July</td>\n",
       "      <td>2020</td>\n",
       "      <td>0</td>\n",
       "    </tr>\n",
       "    <tr>\n",
       "      <th>1</th>\n",
       "      <td>4023265</td>\n",
       "      <td>51.63</td>\n",
       "      <td>50</td>\n",
       "      <td>39132.00</td>\n",
       "      <td>176.73</td>\n",
       "      <td>product_8</td>\n",
       "      <td>Turkmenistan</td>\n",
       "      <td>City_1</td>\n",
       "      <td>No</td>\n",
       "      <td>Evening</td>\n",
       "      <td>Saturday</td>\n",
       "      <td>June</td>\n",
       "      <td>2020</td>\n",
       "      <td>1</td>\n",
       "    </tr>\n",
       "    <tr>\n",
       "      <th>2</th>\n",
       "      <td>4708083</td>\n",
       "      <td>82.37</td>\n",
       "      <td>38</td>\n",
       "      <td>57032.36</td>\n",
       "      <td>210.60</td>\n",
       "      <td>product_6</td>\n",
       "      <td>Northern Mariana Islands</td>\n",
       "      <td>City_2</td>\n",
       "      <td>No</td>\n",
       "      <td>Morning</td>\n",
       "      <td>Tuesday</td>\n",
       "      <td>January</td>\n",
       "      <td>2020</td>\n",
       "      <td>0</td>\n",
       "    </tr>\n",
       "    <tr>\n",
       "      <th>3</th>\n",
       "      <td>9771815</td>\n",
       "      <td>62.06</td>\n",
       "      <td>45</td>\n",
       "      <td>48868.00</td>\n",
       "      <td>190.05</td>\n",
       "      <td>product_19</td>\n",
       "      <td>South Africa</td>\n",
       "      <td>City_3</td>\n",
       "      <td>Yes</td>\n",
       "      <td>Morning</td>\n",
       "      <td>Thursday</td>\n",
       "      <td>April</td>\n",
       "      <td>2020</td>\n",
       "      <td>1</td>\n",
       "    </tr>\n",
       "    <tr>\n",
       "      <th>4</th>\n",
       "      <td>6451317</td>\n",
       "      <td>77.66</td>\n",
       "      <td>31</td>\n",
       "      <td>61608.23</td>\n",
       "      <td>204.86</td>\n",
       "      <td>product_11</td>\n",
       "      <td>Guadeloupe</td>\n",
       "      <td>City_2</td>\n",
       "      <td>No</td>\n",
       "      <td>Noon</td>\n",
       "      <td>Thursday</td>\n",
       "      <td>January</td>\n",
       "      <td>2020</td>\n",
       "      <td>0</td>\n",
       "    </tr>\n",
       "    <tr>\n",
       "      <th>5</th>\n",
       "      <td>1475237</td>\n",
       "      <td>35.98</td>\n",
       "      <td>38</td>\n",
       "      <td>60813.00</td>\n",
       "      <td>125.20</td>\n",
       "      <td>product_10</td>\n",
       "      <td>Guernsey</td>\n",
       "      <td>City_2</td>\n",
       "      <td>Yes</td>\n",
       "      <td>Early-Morning</td>\n",
       "      <td>Saturday</td>\n",
       "      <td>July</td>\n",
       "      <td>2020</td>\n",
       "      <td>1</td>\n",
       "    </tr>\n",
       "    <tr>\n",
       "      <th>6</th>\n",
       "      <td>5578680</td>\n",
       "      <td>52.70</td>\n",
       "      <td>26</td>\n",
       "      <td>49283.00</td>\n",
       "      <td>140.83</td>\n",
       "      <td>product_1</td>\n",
       "      <td>Anguilla</td>\n",
       "      <td>City_2</td>\n",
       "      <td>Yes</td>\n",
       "      <td>Early-Morning</td>\n",
       "      <td>Tuesday</td>\n",
       "      <td>January</td>\n",
       "      <td>2020</td>\n",
       "      <td>1</td>\n",
       "    </tr>\n",
       "    <tr>\n",
       "      <th>7</th>\n",
       "      <td>4037672</td>\n",
       "      <td>82.58</td>\n",
       "      <td>23</td>\n",
       "      <td>61601.05</td>\n",
       "      <td>183.42</td>\n",
       "      <td>product_8</td>\n",
       "      <td>Switzerland</td>\n",
       "      <td>City_4</td>\n",
       "      <td>No</td>\n",
       "      <td>Noon</td>\n",
       "      <td>Sunday</td>\n",
       "      <td>July</td>\n",
       "      <td>2020</td>\n",
       "      <td>0</td>\n",
       "    </tr>\n",
       "    <tr>\n",
       "      <th>8</th>\n",
       "      <td>5792642</td>\n",
       "      <td>70.96</td>\n",
       "      <td>22</td>\n",
       "      <td>69874.18</td>\n",
       "      <td>198.72</td>\n",
       "      <td>product_29</td>\n",
       "      <td>Niue</td>\n",
       "      <td>City_3</td>\n",
       "      <td>No</td>\n",
       "      <td>Mid-Night</td>\n",
       "      <td>Tuesday</td>\n",
       "      <td>April</td>\n",
       "      <td>2020</td>\n",
       "      <td>0</td>\n",
       "    </tr>\n",
       "    <tr>\n",
       "      <th>9</th>\n",
       "      <td>9377192</td>\n",
       "      <td>56.91</td>\n",
       "      <td>50</td>\n",
       "      <td>21773.22</td>\n",
       "      <td>146.44</td>\n",
       "      <td>product_18</td>\n",
       "      <td>Norfolk Island</td>\n",
       "      <td>City_4</td>\n",
       "      <td>No</td>\n",
       "      <td>Early-Morning</td>\n",
       "      <td>Friday</td>\n",
       "      <td>April</td>\n",
       "      <td>2020</td>\n",
       "      <td>1</td>\n",
       "    </tr>\n",
       "  </tbody>\n",
       "</table>\n",
       "</div>"
      ],
      "text/plain": [
       "    VistID  Time_Spent  Age  Avg_Income  Internet_Usage    Ad_Topic  \\\n",
       "0  5183153       87.97   43    55901.12          185.46  product_11   \n",
       "1  4023265       51.63   50    39132.00          176.73   product_8   \n",
       "2  4708083       82.37   38    57032.36          210.60   product_6   \n",
       "3  9771815       62.06   45    48868.00          190.05  product_19   \n",
       "4  6451317       77.66   31    61608.23          204.86  product_11   \n",
       "5  1475237       35.98   38    60813.00          125.20  product_10   \n",
       "6  5578680       52.70   26    49283.00          140.83   product_1   \n",
       "7  4037672       82.58   23    61601.05          183.42   product_8   \n",
       "8  5792642       70.96   22    69874.18          198.72  product_29   \n",
       "9  9377192       56.91   50    21773.22          146.44  product_18   \n",
       "\n",
       "               Country_Name City_code Male    Time_Period   Weekday    Month  \\\n",
       "0                    Serbia    City_5   No      Mid-Night  Thursday     July   \n",
       "1              Turkmenistan    City_1   No        Evening  Saturday     June   \n",
       "2  Northern Mariana Islands    City_2   No        Morning   Tuesday  January   \n",
       "3              South Africa    City_3  Yes        Morning  Thursday    April   \n",
       "4                Guadeloupe    City_2   No           Noon  Thursday  January   \n",
       "5                  Guernsey    City_2  Yes  Early-Morning  Saturday     July   \n",
       "6                  Anguilla    City_2  Yes  Early-Morning   Tuesday  January   \n",
       "7               Switzerland    City_4   No           Noon    Sunday     July   \n",
       "8                      Niue    City_3   No      Mid-Night   Tuesday    April   \n",
       "9            Norfolk Island    City_4   No  Early-Morning    Friday    April   \n",
       "\n",
       "   Year  Clicked  \n",
       "0  2020        0  \n",
       "1  2020        1  \n",
       "2  2020        0  \n",
       "3  2020        1  \n",
       "4  2020        0  \n",
       "5  2020        1  \n",
       "6  2020        1  \n",
       "7  2020        0  \n",
       "8  2020        0  \n",
       "9  2020        1  "
      ]
     },
     "execution_count": 2,
     "metadata": {},
     "output_type": "execute_result"
    }
   ],
   "source": [
    "# Reading the dataset\n",
    "import pandas as pd\n",
    "import numpy as np\n",
    "\n",
    "AdClickData=pd.read_csv(\"/Users/Ad click data.csv\", encoding='latin')\n",
    "print('Shape before deleting duplicate values:', AdClickData.shape)\n",
    "\n",
    "# Removing duplicate rows if any\n",
    "AdClickData=AdClickData.drop_duplicates()\n",
    "print('Shape after deleting duplicate values:', AdClickData.shape)\n",
    "\n",
    "# Printing sample data\n",
    "# Start observing the Quantitative/Categorical/Qualitative variables\n",
    "AdClickData.head(10)\n"
   ]
  },
  {
   "cell_type": "markdown",
   "metadata": {},
   "source": [
    "# Defining the problem statement:\n",
    "Create a Predictive model which can tell whether a logged in user will click on a given product advertisement or not?\n",
    "Target Variable: Clicked\n",
    "Predictors: Time_Spent, Age, Avg_Income, Internet_Usage, Ad_Topic... etc.\n",
    "Clicked=1 means the ad was clicked.\n",
    "Clicked=0 means the ad was NOT clicked.\n",
    "Determining the type of Machine Learning\n",
    "Based on the problem statement you can understand that we need to create a supervised ML classification model, as the target variable is categorical.\n",
    "\n",
    "# Looking at the distribution of Target variable\n",
    "If target variable's distribution is too skewed then the predictive modeling will not be possible.\n",
    "Bell curve is desirable but slightly positive skew or negative skew is also fine\n",
    "When performing Classification, make sure there is a balance in the the distribution of each class otherwise it impacts the Machine Learning algorithms ability to learn all the classes"
   ]
  },
  {
   "cell_type": "code",
   "execution_count": 3,
   "metadata": {},
   "outputs": [
    {
     "data": {
      "image/png": "[encoded data removed]",
      "text/plain": [
       "<Figure size 400x300 with 1 Axes>"
      ]
     },
     "metadata": {},
     "output_type": "display_data"
    }
   ],
   "source": [
    "# Creating Bar chart as the Target variable is Categorical\n",
    "GroupedData=AdClickData.groupby('Clicked').size()\n",
    "GroupedData.plot(kind='bar', figsize=(4,3));"
   ]
  },
  {
   "cell_type": "markdown",
   "metadata": {},
   "source": [
    "The Target variable distribution looks balanced. There are enough number of rows for Clicked=0 as well Clicked=1 for the ML algorithms to learn. Hence we can go ahead!\n",
    "\n"
   ]
  },
  {
   "cell_type": "markdown",
   "metadata": {},
   "source": [
    "# Basic Data Exploration\n",
    "This step is performed to guage the overall data. The volume of data, the types of columns present in the data. Initial assessment of the data should be done to identify which columns are Quantitative, Categorical or Qualitative.\n",
    "\n",
    "This step helps to start the column rejection process. You must look at each column carefully and ask, does this column affect the values of the Target variable? For example in this case study, you will ask, Does this column affect the click or no-click of the advertisement? If the answer is a clear \"No\" the remove the column immediately from the data otherwise keep the column for further analysis.\n",
    "\n",
    "In this data \"VistID\", \"Country_Name\" and \"Year\" are such columns which are useless to us because it does not affect the click or no-click for an advertisement. Hence, we will remove \"VistID\", \"Country_Name\" and \"Year\" from the data.\n",
    "\n",
    "There are four commands which are used for Basic data exploration in Python\n",
    "\n",
    "head() : This helps to see a few sample rows of the data\n",
    "info() : This provides the summarized information of the data\n",
    "describe() : This provides the descriptive statistical details of the data\n",
    "nunique(): This helps us to identify if a column is categorical or continuous"
   ]
  },
  {
   "cell_type": "code",
   "execution_count": 4,
   "metadata": {},
   "outputs": [
    {
     "data": {
      "application/vnd.microsoft.datawrangler.viewer.v0+json": {
       "columns": [
        {
         "name": "index",
         "rawType": "int64",
         "type": "integer"
        },
        {
         "name": "VistID",
         "rawType": "int64",
         "type": "integer"
        },
        {
         "name": "Time_Spent",
         "rawType": "float64",
         "type": "float"
        },
        {
         "name": "Age",
         "rawType": "int64",
         "type": "integer"
        },
        {
         "name": "Avg_Income",
         "rawType": "float64",
         "type": "float"
        },
        {
         "name": "Internet_Usage",
         "rawType": "float64",
         "type": "float"
        },
        {
         "name": "Ad_Topic",
         "rawType": "object",
         "type": "string"
        },
        {
         "name": "Country_Name",
         "rawType": "object",
         "type": "string"
        },
        {
         "name": "City_code",
         "rawType": "object",
         "type": "string"
        },
        {
         "name": "Male",
         "rawType": "object",
         "type": "string"
        },
        {
         "name": "Time_Period",
         "rawType": "object",
         "type": "string"
        },
        {
         "name": "Weekday",
         "rawType": "object",
         "type": "string"
        },
        {
         "name": "Month",
         "rawType": "object",
         "type": "string"
        },
        {
         "name": "Year",
         "rawType": "int64",
         "type": "integer"
        },
        {
         "name": "Clicked",
         "rawType": "int64",
         "type": "integer"
        }
       ],
       "conversionMethod": "pd.DataFrame",
       "ref": "5e606131-bf87-4cae-9942-8c3d55ef29f9",
       "rows": [
        [
         "0",
         "5183153",
         "87.97",
         "43",
         "55901.12",
         "185.46",
         "product_11",
         "Serbia",
         "City_5",
         "No",
         "Mid-Night",
         "Thursday",
         "July",
         "2020",
         "0"
        ],
        [
         "1",
         "4023265",
         "51.63",
         "50",
         "39132.0",
         "176.73",
         "product_8",
         "Turkmenistan",
         "City_1",
         "No",
         "Evening",
         "Saturday",
         "June",
         "2020",
         "1"
        ],
        [
         "2",
         "4708083",
         "82.37",
         "38",
         "57032.36",
         "210.6",
         "product_6",
         "Northern Mariana Islands",
         "City_2",
         "No",
         "Morning",
         "Tuesday",
         "January",
         "2020",
         "0"
        ],
        [
         "3",
         "9771815",
         "62.06",
         "45",
         "48868.0",
         "190.05",
         "product_19",
         "South Africa",
         "City_3",
         "Yes",
         "Morning",
         "Thursday",
         "April",
         "2020",
         "1"
        ],
        [
         "4",
         "6451317",
         "77.66",
         "31",
         "61608.23",
         "204.86",
         "product_11",
         "Guadeloupe",
         "City_2",
         "No",
         "Noon",
         "Thursday",
         "January",
         "2020",
         "0"
        ]
       ],
       "shape": {
        "columns": 14,
        "rows": 5
       }
      },
      "text/html": [
       "<div>\n",
       "<style scoped>\n",
       "    .dataframe tbody tr th:only-of-type {\n",
       "        vertical-align: middle;\n",
       "    }\n",
       "\n",
       "    .dataframe tbody tr th {\n",
       "        vertical-align: top;\n",
       "    }\n",
       "\n",
       "    .dataframe thead th {\n",
       "        text-align: right;\n",
       "    }\n",
       "</style>\n",
       "<table border=\"1\" class=\"dataframe\">\n",
       "  <thead>\n",
       "    <tr style=\"text-align: right;\">\n",
       "      <th></th>\n",
       "      <th>VistID</th>\n",
       "      <th>Time_Spent</th>\n",
       "      <th>Age</th>\n",
       "      <th>Avg_Income</th>\n",
       "      <th>Internet_Usage</th>\n",
       "      <th>Ad_Topic</th>\n",
       "      <th>Country_Name</th>\n",
       "      <th>City_code</th>\n",
       "      <th>Male</th>\n",
       "      <th>Time_Period</th>\n",
       "      <th>Weekday</th>\n",
       "      <th>Month</th>\n",
       "      <th>Year</th>\n",
       "      <th>Clicked</th>\n",
       "    </tr>\n",
       "  </thead>\n",
       "  <tbody>\n",
       "    <tr>\n",
       "      <th>0</th>\n",
       "      <td>5183153</td>\n",
       "      <td>87.97</td>\n",
       "      <td>43</td>\n",
       "      <td>55901.12</td>\n",
       "      <td>185.46</td>\n",
       "      <td>product_11</td>\n",
       "      <td>Serbia</td>\n",
       "      <td>City_5</td>\n",
       "      <td>No</td>\n",
       "      <td>Mid-Night</td>\n",
       "      <td>Thursday</td>\n",
       "      <td>July</td>\n",
       "      <td>2020</td>\n",
       "      <td>0</td>\n",
       "    </tr>\n",
       "    <tr>\n",
       "      <th>1</th>\n",
       "      <td>4023265</td>\n",
       "      <td>51.63</td>\n",
       "      <td>50</td>\n",
       "      <td>39132.00</td>\n",
       "      <td>176.73</td>\n",
       "      <td>product_8</td>\n",
       "      <td>Turkmenistan</td>\n",
       "      <td>City_1</td>\n",
       "      <td>No</td>\n",
       "      <td>Evening</td>\n",
       "      <td>Saturday</td>\n",
       "      <td>June</td>\n",
       "      <td>2020</td>\n",
       "      <td>1</td>\n",
       "    </tr>\n",
       "    <tr>\n",
       "      <th>2</th>\n",
       "      <td>4708083</td>\n",
       "      <td>82.37</td>\n",
       "      <td>38</td>\n",
       "      <td>57032.36</td>\n",
       "      <td>210.60</td>\n",
       "      <td>product_6</td>\n",
       "      <td>Northern Mariana Islands</td>\n",
       "      <td>City_2</td>\n",
       "      <td>No</td>\n",
       "      <td>Morning</td>\n",
       "      <td>Tuesday</td>\n",
       "      <td>January</td>\n",
       "      <td>2020</td>\n",
       "      <td>0</td>\n",
       "    </tr>\n",
       "    <tr>\n",
       "      <th>3</th>\n",
       "      <td>9771815</td>\n",
       "      <td>62.06</td>\n",
       "      <td>45</td>\n",
       "      <td>48868.00</td>\n",
       "      <td>190.05</td>\n",
       "      <td>product_19</td>\n",
       "      <td>South Africa</td>\n",
       "      <td>City_3</td>\n",
       "      <td>Yes</td>\n",
       "      <td>Morning</td>\n",
       "      <td>Thursday</td>\n",
       "      <td>April</td>\n",
       "      <td>2020</td>\n",
       "      <td>1</td>\n",
       "    </tr>\n",
       "    <tr>\n",
       "      <th>4</th>\n",
       "      <td>6451317</td>\n",
       "      <td>77.66</td>\n",
       "      <td>31</td>\n",
       "      <td>61608.23</td>\n",
       "      <td>204.86</td>\n",
       "      <td>product_11</td>\n",
       "      <td>Guadeloupe</td>\n",
       "      <td>City_2</td>\n",
       "      <td>No</td>\n",
       "      <td>Noon</td>\n",
       "      <td>Thursday</td>\n",
       "      <td>January</td>\n",
       "      <td>2020</td>\n",
       "      <td>0</td>\n",
       "    </tr>\n",
       "  </tbody>\n",
       "</table>\n",
       "</div>"
      ],
      "text/plain": [
       "    VistID  Time_Spent  Age  Avg_Income  Internet_Usage    Ad_Topic  \\\n",
       "0  5183153       87.97   43    55901.12          185.46  product_11   \n",
       "1  4023265       51.63   50    39132.00          176.73   product_8   \n",
       "2  4708083       82.37   38    57032.36          210.60   product_6   \n",
       "3  9771815       62.06   45    48868.00          190.05  product_19   \n",
       "4  6451317       77.66   31    61608.23          204.86  product_11   \n",
       "\n",
       "               Country_Name City_code Male Time_Period   Weekday    Month  \\\n",
       "0                    Serbia    City_5   No   Mid-Night  Thursday     July   \n",
       "1              Turkmenistan    City_1   No     Evening  Saturday     June   \n",
       "2  Northern Mariana Islands    City_2   No     Morning   Tuesday  January   \n",
       "3              South Africa    City_3  Yes     Morning  Thursday    April   \n",
       "4                Guadeloupe    City_2   No        Noon  Thursday  January   \n",
       "\n",
       "   Year  Clicked  \n",
       "0  2020        0  \n",
       "1  2020        1  \n",
       "2  2020        0  \n",
       "3  2020        1  \n",
       "4  2020        0  "
      ]
     },
     "execution_count": 4,
     "metadata": {},
     "output_type": "execute_result"
    }
   ],
   "source": [
    "# Looking at sample rows in the data\n",
    "AdClickData.head()"
   ]
  },
  {
   "cell_type": "code",
   "execution_count": 5,
   "metadata": {},
   "outputs": [
    {
     "name": "stdout",
     "output_type": "stream",
     "text": [
      "<class 'pandas.core.frame.DataFrame'>\n",
      "RangeIndex: 6657 entries, 0 to 6656\n",
      "Data columns (total 14 columns):\n",
      " #   Column          Non-Null Count  Dtype  \n",
      "---  ------          --------------  -----  \n",
      " 0   VistID          6657 non-null   int64  \n",
      " 1   Time_Spent      6657 non-null   float64\n",
      " 2   Age             6657 non-null   int64  \n",
      " 3   Avg_Income      6657 non-null   float64\n",
      " 4   Internet_Usage  6657 non-null   float64\n",
      " 5   Ad_Topic        6657 non-null   object \n",
      " 6   Country_Name    6657 non-null   object \n",
      " 7   City_code       6657 non-null   object \n",
      " 8   Male            6657 non-null   object \n",
      " 9   Time_Period     6657 non-null   object \n",
      " 10  Weekday         6657 non-null   object \n",
      " 11  Month           6657 non-null   object \n",
      " 12  Year            6657 non-null   int64  \n",
      " 13  Clicked         6657 non-null   int64  \n",
      "dtypes: float64(3), int64(4), object(7)\n",
      "memory usage: 728.2+ KB\n"
     ]
    }
   ],
   "source": [
    "# Observing the summarized information of data\n",
    "# Data types, Missing values based on number of non-null values Vs total rows etc.\n",
    "# Remove those variables from data which have too many missing values (Missing Values > 30%)\n",
    "# Remove Qualitative variables which cannot be used in Machine Learning\n",
    "AdClickData.info()"
   ]
  },
  {
   "cell_type": "code",
   "execution_count": 6,
   "metadata": {},
   "outputs": [
    {
     "data": {
      "application/vnd.microsoft.datawrangler.viewer.v0+json": {
       "columns": [
        {
         "name": "index",
         "rawType": "object",
         "type": "string"
        },
        {
         "name": "VistID",
         "rawType": "float64",
         "type": "float"
        },
        {
         "name": "Time_Spent",
         "rawType": "float64",
         "type": "float"
        },
        {
         "name": "Age",
         "rawType": "float64",
         "type": "float"
        },
        {
         "name": "Avg_Income",
         "rawType": "float64",
         "type": "float"
        },
        {
         "name": "Internet_Usage",
         "rawType": "float64",
         "type": "float"
        },
        {
         "name": "Ad_Topic",
         "rawType": "object",
         "type": "unknown"
        },
        {
         "name": "Country_Name",
         "rawType": "object",
         "type": "unknown"
        },
        {
         "name": "City_code",
         "rawType": "object",
         "type": "unknown"
        },
        {
         "name": "Male",
         "rawType": "object",
         "type": "unknown"
        },
        {
         "name": "Time_Period",
         "rawType": "object",
         "type": "unknown"
        },
        {
         "name": "Weekday",
         "rawType": "object",
         "type": "unknown"
        },
        {
         "name": "Month",
         "rawType": "object",
         "type": "unknown"
        },
        {
         "name": "Year",
         "rawType": "float64",
         "type": "float"
        },
        {
         "name": "Clicked",
         "rawType": "float64",
         "type": "float"
        }
       ],
       "conversionMethod": "pd.DataFrame",
       "ref": "bd93918d-ab35-4b97-853f-e4326e2874e9",
       "rows": [
        [
         "count",
         "6657.0",
         "6657.0",
         "6657.0",
         "6657.0",
         "6657.0",
         "6657",
         "6657",
         "6657",
         "6657",
         "6657",
         "6657",
         "6657",
         "6657.0",
         "6657.0"
        ],
        [
         "unique",
         null,
         null,
         null,
         null,
         null,
         "30",
         "237",
         "9",
         "2",
         "6",
         "7",
         "7",
         null,
         null
        ],
        [
         "top",
         null,
         null,
         null,
         null,
         null,
         "product_22",
         "Canada",
         "City_1",
         "No",
         "Evening",
         "Friday",
         "January",
         null,
         null
        ],
        [
         "freq",
         null,
         null,
         null,
         null,
         null,
         "266",
         "46",
         "2559",
         "3571",
         "1266",
         "986",
         "988",
         null,
         null
        ],
        [
         "mean",
         "5542114.551149166",
         "66.84954784437433",
         "37.258825296680186",
         "55930.486743277754",
         "184.94768364127987",
         null,
         null,
         null,
         null,
         null,
         null,
         null,
         "2020.0",
         "0.45636172450052576"
        ],
        [
         "std",
         "2596283.601806012",
         "15.509671743754287",
         "10.99545800578057",
         "13110.339256911724",
         "43.189895948375614",
         null,
         null,
         null,
         null,
         null,
         null,
         null,
         "0.0",
         "0.49812947604509245"
        ],
        [
         "min",
         "1000187.0",
         "32.6",
         "19.0",
         "13996.5",
         "104.78",
         null,
         null,
         null,
         null,
         null,
         null,
         null,
         "2020.0",
         "0.0"
        ],
        [
         "25%",
         "3307428.0",
         "55.2",
         "28.0",
         "48454.0",
         "145.73",
         null,
         null,
         null,
         null,
         null,
         null,
         null,
         "2020.0",
         "0.0"
        ],
        [
         "50%",
         "5523907.0",
         "70.66",
         "36.0",
         "58183.0",
         "193.58",
         null,
         null,
         null,
         null,
         null,
         null,
         null,
         "2020.0",
         "0.0"
        ],
        [
         "75%",
         "7823942.0",
         "79.57",
         "46.0",
         "65957.0",
         "222.26",
         null,
         null,
         null,
         null,
         null,
         null,
         null,
         "2020.0",
         "1.0"
        ],
        [
         "max",
         "9999708.0",
         "91.43",
         "61.0",
         "79484.8",
         "269.96",
         null,
         null,
         null,
         null,
         null,
         null,
         null,
         "2020.0",
         "1.0"
        ]
       ],
       "shape": {
        "columns": 14,
        "rows": 11
       }
      },
      "text/html": [
       "<div>\n",
       "<style scoped>\n",
       "    .dataframe tbody tr th:only-of-type {\n",
       "        vertical-align: middle;\n",
       "    }\n",
       "\n",
       "    .dataframe tbody tr th {\n",
       "        vertical-align: top;\n",
       "    }\n",
       "\n",
       "    .dataframe thead th {\n",
       "        text-align: right;\n",
       "    }\n",
       "</style>\n",
       "<table border=\"1\" class=\"dataframe\">\n",
       "  <thead>\n",
       "    <tr style=\"text-align: right;\">\n",
       "      <th></th>\n",
       "      <th>VistID</th>\n",
       "      <th>Time_Spent</th>\n",
       "      <th>Age</th>\n",
       "      <th>Avg_Income</th>\n",
       "      <th>Internet_Usage</th>\n",
       "      <th>Ad_Topic</th>\n",
       "      <th>Country_Name</th>\n",
       "      <th>City_code</th>\n",
       "      <th>Male</th>\n",
       "      <th>Time_Period</th>\n",
       "      <th>Weekday</th>\n",
       "      <th>Month</th>\n",
       "      <th>Year</th>\n",
       "      <th>Clicked</th>\n",
       "    </tr>\n",
       "  </thead>\n",
       "  <tbody>\n",
       "    <tr>\n",
       "      <th>count</th>\n",
       "      <td>6.657000e+03</td>\n",
       "      <td>6657.000000</td>\n",
       "      <td>6657.000000</td>\n",
       "      <td>6657.000000</td>\n",
       "      <td>6657.000000</td>\n",
       "      <td>6657</td>\n",
       "      <td>6657</td>\n",
       "      <td>6657</td>\n",
       "      <td>6657</td>\n",
       "      <td>6657</td>\n",
       "      <td>6657</td>\n",
       "      <td>6657</td>\n",
       "      <td>6657.0</td>\n",
       "      <td>6657.000000</td>\n",
       "    </tr>\n",
       "    <tr>\n",
       "      <th>unique</th>\n",
       "      <td>NaN</td>\n",
       "      <td>NaN</td>\n",
       "      <td>NaN</td>\n",
       "      <td>NaN</td>\n",
       "      <td>NaN</td>\n",
       "      <td>30</td>\n",
       "      <td>237</td>\n",
       "      <td>9</td>\n",
       "      <td>2</td>\n",
       "      <td>6</td>\n",
       "      <td>7</td>\n",
       "      <td>7</td>\n",
       "      <td>NaN</td>\n",
       "      <td>NaN</td>\n",
       "    </tr>\n",
       "    <tr>\n",
       "      <th>top</th>\n",
       "      <td>NaN</td>\n",
       "      <td>NaN</td>\n",
       "      <td>NaN</td>\n",
       "      <td>NaN</td>\n",
       "      <td>NaN</td>\n",
       "      <td>product_22</td>\n",
       "      <td>Canada</td>\n",
       "      <td>City_1</td>\n",
       "      <td>No</td>\n",
       "      <td>Evening</td>\n",
       "      <td>Friday</td>\n",
       "      <td>January</td>\n",
       "      <td>NaN</td>\n",
       "      <td>NaN</td>\n",
       "    </tr>\n",
       "    <tr>\n",
       "      <th>freq</th>\n",
       "      <td>NaN</td>\n",
       "      <td>NaN</td>\n",
       "      <td>NaN</td>\n",
       "      <td>NaN</td>\n",
       "      <td>NaN</td>\n",
       "      <td>266</td>\n",
       "      <td>46</td>\n",
       "      <td>2559</td>\n",
       "      <td>3571</td>\n",
       "      <td>1266</td>\n",
       "      <td>986</td>\n",
       "      <td>988</td>\n",
       "      <td>NaN</td>\n",
       "      <td>NaN</td>\n",
       "    </tr>\n",
       "    <tr>\n",
       "      <th>mean</th>\n",
       "      <td>5.542115e+06</td>\n",
       "      <td>66.849548</td>\n",
       "      <td>37.258825</td>\n",
       "      <td>55930.486743</td>\n",
       "      <td>184.947684</td>\n",
       "      <td>NaN</td>\n",
       "      <td>NaN</td>\n",
       "      <td>NaN</td>\n",
       "      <td>NaN</td>\n",
       "      <td>NaN</td>\n",
       "      <td>NaN</td>\n",
       "      <td>NaN</td>\n",
       "      <td>2020.0</td>\n",
       "      <td>0.456362</td>\n",
       "    </tr>\n",
       "    <tr>\n",
       "      <th>std</th>\n",
       "      <td>2.596284e+06</td>\n",
       "      <td>15.509672</td>\n",
       "      <td>10.995458</td>\n",
       "      <td>13110.339257</td>\n",
       "      <td>43.189896</td>\n",
       "      <td>NaN</td>\n",
       "      <td>NaN</td>\n",
       "      <td>NaN</td>\n",
       "      <td>NaN</td>\n",
       "      <td>NaN</td>\n",
       "      <td>NaN</td>\n",
       "      <td>NaN</td>\n",
       "      <td>0.0</td>\n",
       "      <td>0.498129</td>\n",
       "    </tr>\n",
       "    <tr>\n",
       "      <th>min</th>\n",
       "      <td>1.000187e+06</td>\n",
       "      <td>32.600000</td>\n",
       "      <td>19.000000</td>\n",
       "      <td>13996.500000</td>\n",
       "      <td>104.780000</td>\n",
       "      <td>NaN</td>\n",
       "      <td>NaN</td>\n",
       "      <td>NaN</td>\n",
       "      <td>NaN</td>\n",
       "      <td>NaN</td>\n",
       "      <td>NaN</td>\n",
       "      <td>NaN</td>\n",
       "      <td>2020.0</td>\n",
       "      <td>0.000000</td>\n",
       "    </tr>\n",
       "    <tr>\n",
       "      <th>25%</th>\n",
       "      <td>3.307428e+06</td>\n",
       "      <td>55.200000</td>\n",
       "      <td>28.000000</td>\n",
       "      <td>48454.000000</td>\n",
       "      <td>145.730000</td>\n",
       "      <td>NaN</td>\n",
       "      <td>NaN</td>\n",
       "      <td>NaN</td>\n",
       "      <td>NaN</td>\n",
       "      <td>NaN</td>\n",
       "      <td>NaN</td>\n",
       "      <td>NaN</td>\n",
       "      <td>2020.0</td>\n",
       "      <td>0.000000</td>\n",
       "    </tr>\n",
       "    <tr>\n",
       "      <th>50%</th>\n",
       "      <td>5.523907e+06</td>\n",
       "      <td>70.660000</td>\n",
       "      <td>36.000000</td>\n",
       "      <td>58183.000000</td>\n",
       "      <td>193.580000</td>\n",
       "      <td>NaN</td>\n",
       "      <td>NaN</td>\n",
       "      <td>NaN</td>\n",
       "      <td>NaN</td>\n",
       "      <td>NaN</td>\n",
       "      <td>NaN</td>\n",
       "      <td>NaN</td>\n",
       "      <td>2020.0</td>\n",
       "      <td>0.000000</td>\n",
       "    </tr>\n",
       "    <tr>\n",
       "      <th>75%</th>\n",
       "      <td>7.823942e+06</td>\n",
       "      <td>79.570000</td>\n",
       "      <td>46.000000</td>\n",
       "      <td>65957.000000</td>\n",
       "      <td>222.260000</td>\n",
       "      <td>NaN</td>\n",
       "      <td>NaN</td>\n",
       "      <td>NaN</td>\n",
       "      <td>NaN</td>\n",
       "      <td>NaN</td>\n",
       "      <td>NaN</td>\n",
       "      <td>NaN</td>\n",
       "      <td>2020.0</td>\n",
       "      <td>1.000000</td>\n",
       "    </tr>\n",
       "    <tr>\n",
       "      <th>max</th>\n",
       "      <td>9.999708e+06</td>\n",
       "      <td>91.430000</td>\n",
       "      <td>61.000000</td>\n",
       "      <td>79484.800000</td>\n",
       "      <td>269.960000</td>\n",
       "      <td>NaN</td>\n",
       "      <td>NaN</td>\n",
       "      <td>NaN</td>\n",
       "      <td>NaN</td>\n",
       "      <td>NaN</td>\n",
       "      <td>NaN</td>\n",
       "      <td>NaN</td>\n",
       "      <td>2020.0</td>\n",
       "      <td>1.000000</td>\n",
       "    </tr>\n",
       "  </tbody>\n",
       "</table>\n",
       "</div>"
      ],
      "text/plain": [
       "              VistID   Time_Spent          Age    Avg_Income  Internet_Usage  \\\n",
       "count   6.657000e+03  6657.000000  6657.000000   6657.000000     6657.000000   \n",
       "unique           NaN          NaN          NaN           NaN             NaN   \n",
       "top              NaN          NaN          NaN           NaN             NaN   \n",
       "freq             NaN          NaN          NaN           NaN             NaN   \n",
       "mean    5.542115e+06    66.849548    37.258825  55930.486743      184.947684   \n",
       "std     2.596284e+06    15.509672    10.995458  13110.339257       43.189896   \n",
       "min     1.000187e+06    32.600000    19.000000  13996.500000      104.780000   \n",
       "25%     3.307428e+06    55.200000    28.000000  48454.000000      145.730000   \n",
       "50%     5.523907e+06    70.660000    36.000000  58183.000000      193.580000   \n",
       "75%     7.823942e+06    79.570000    46.000000  65957.000000      222.260000   \n",
       "max     9.999708e+06    91.430000    61.000000  79484.800000      269.960000   \n",
       "\n",
       "          Ad_Topic Country_Name City_code  Male Time_Period Weekday    Month  \\\n",
       "count         6657         6657      6657  6657        6657    6657     6657   \n",
       "unique          30          237         9     2           6       7        7   \n",
       "top     product_22       Canada    City_1    No     Evening  Friday  January   \n",
       "freq           266           46      2559  3571        1266     986      988   \n",
       "mean           NaN          NaN       NaN   NaN         NaN     NaN      NaN   \n",
       "std            NaN          NaN       NaN   NaN         NaN     NaN      NaN   \n",
       "min            NaN          NaN       NaN   NaN         NaN     NaN      NaN   \n",
       "25%            NaN          NaN       NaN   NaN         NaN     NaN      NaN   \n",
       "50%            NaN          NaN       NaN   NaN         NaN     NaN      NaN   \n",
       "75%            NaN          NaN       NaN   NaN         NaN     NaN      NaN   \n",
       "max            NaN          NaN       NaN   NaN         NaN     NaN      NaN   \n",
       "\n",
       "          Year      Clicked  \n",
       "count   6657.0  6657.000000  \n",
       "unique     NaN          NaN  \n",
       "top        NaN          NaN  \n",
       "freq       NaN          NaN  \n",
       "mean    2020.0     0.456362  \n",
       "std        0.0     0.498129  \n",
       "min     2020.0     0.000000  \n",
       "25%     2020.0     0.000000  \n",
       "50%     2020.0     0.000000  \n",
       "75%     2020.0     1.000000  \n",
       "max     2020.0     1.000000  "
      ]
     },
     "execution_count": 6,
     "metadata": {},
     "output_type": "execute_result"
    }
   ],
   "source": [
    "# Looking at the descriptive statistics of the data\n",
    "AdClickData.describe(include='all')"
   ]
  },
  {
   "cell_type": "code",
   "execution_count": 7,
   "metadata": {},
   "outputs": [
    {
     "data": {
      "text/plain": [
       "VistID            6657\n",
       "Time_Spent         900\n",
       "Age                 43\n",
       "Avg_Income        1487\n",
       "Internet_Usage     966\n",
       "Ad_Topic            30\n",
       "Country_Name       237\n",
       "City_code            9\n",
       "Male                 2\n",
       "Time_Period          6\n",
       "Weekday              7\n",
       "Month                7\n",
       "Year                 1\n",
       "Clicked              2\n",
       "dtype: int64"
      ]
     },
     "execution_count": 7,
     "metadata": {},
     "output_type": "execute_result"
    }
   ],
   "source": [
    "# Finging unique values for each column\n",
    "# TO understand which column is categorical and which one is Continuous\n",
    "# Typically if the numer of unique values are < 20 then the variable is \n",
    "# likely to be a category otherwise continuous\n",
    "AdClickData.nunique()"
   ]
  },
  {
   "cell_type": "markdown",
   "metadata": {},
   "source": [
    "# Basic Data Exploration Results\n",
    "Based on the basic exploration above, you can now create a simple report of the data, noting down your observations regaring each column. Hence, creating a initial roadmap for further analysis.\n",
    "\n",
    "The selected columns in this step are not final, further study will be done and then a final list will be created\n",
    "\n",
    "VistID: Qualitative. Rejected. This column does not affect the ad click\n",
    "Time_Spent: Continuous. Selected.\n",
    "Age: Continuous. Selected.\n",
    "Area_Income: Continuous. Selected.\n",
    "Internet_Usage: Continuous. Selected.\n",
    "Ad_Topic: Categorical. Selected.\n",
    "Country_Name: Qualitative. Rejected. This column has very high cardinality\n",
    "City_Code: Categorical. Selected.\n",
    "Male: Categorical. Selected.\n",
    "Time_Period: Categorical. Selected.\n",
    "Weekday: Categorical. Selected.\n",
    "Month: Categorical. Selected.\n",
    "Year: Qualitative. Rejected. This column does not affect the ad click.\n",
    "Clicked: Categorical. Selected. This is the Target Variable!"
   ]
  },
  {
   "cell_type": "markdown",
   "metadata": {},
   "source": [
    "## Removing useless variables from data\n",
    "Based on the above report, removing \"VistID\", \"Country_Name\" and \"Year\" columns from the data"
   ]
  },
  {
   "cell_type": "code",
   "execution_count": 8,
   "metadata": {},
   "outputs": [
    {
     "data": {
      "application/vnd.microsoft.datawrangler.viewer.v0+json": {
       "columns": [
        {
         "name": "index",
         "rawType": "int64",
         "type": "integer"
        },
        {
         "name": "Time_Spent",
         "rawType": "float64",
         "type": "float"
        },
        {
         "name": "Age",
         "rawType": "int64",
         "type": "integer"
        },
        {
         "name": "Avg_Income",
         "rawType": "float64",
         "type": "float"
        },
        {
         "name": "Internet_Usage",
         "rawType": "float64",
         "type": "float"
        },
        {
         "name": "Ad_Topic",
         "rawType": "object",
         "type": "string"
        },
        {
         "name": "City_code",
         "rawType": "object",
         "type": "string"
        },
        {
         "name": "Male",
         "rawType": "object",
         "type": "string"
        },
        {
         "name": "Time_Period",
         "rawType": "object",
         "type": "string"
        },
        {
         "name": "Weekday",
         "rawType": "object",
         "type": "string"
        },
        {
         "name": "Month",
         "rawType": "object",
         "type": "string"
        },
        {
         "name": "Clicked",
         "rawType": "int64",
         "type": "integer"
        }
       ],
       "conversionMethod": "pd.DataFrame",
       "ref": "1a749493-4a64-4a0b-b2a6-867582de0253",
       "rows": [
        [
         "0",
         "87.97",
         "43",
         "55901.12",
         "185.46",
         "product_11",
         "City_5",
         "No",
         "Mid-Night",
         "Thursday",
         "July",
         "0"
        ],
        [
         "1",
         "51.63",
         "50",
         "39132.0",
         "176.73",
         "product_8",
         "City_1",
         "No",
         "Evening",
         "Saturday",
         "June",
         "1"
        ],
        [
         "2",
         "82.37",
         "38",
         "57032.36",
         "210.6",
         "product_6",
         "City_2",
         "No",
         "Morning",
         "Tuesday",
         "January",
         "0"
        ],
        [
         "3",
         "62.06",
         "45",
         "48868.0",
         "190.05",
         "product_19",
         "City_3",
         "Yes",
         "Morning",
         "Thursday",
         "April",
         "1"
        ],
        [
         "4",
         "77.66",
         "31",
         "61608.23",
         "204.86",
         "product_11",
         "City_2",
         "No",
         "Noon",
         "Thursday",
         "January",
         "0"
        ]
       ],
       "shape": {
        "columns": 11,
        "rows": 5
       }
      },
      "text/html": [
       "<div>\n",
       "<style scoped>\n",
       "    .dataframe tbody tr th:only-of-type {\n",
       "        vertical-align: middle;\n",
       "    }\n",
       "\n",
       "    .dataframe tbody tr th {\n",
       "        vertical-align: top;\n",
       "    }\n",
       "\n",
       "    .dataframe thead th {\n",
       "        text-align: right;\n",
       "    }\n",
       "</style>\n",
       "<table border=\"1\" class=\"dataframe\">\n",
       "  <thead>\n",
       "    <tr style=\"text-align: right;\">\n",
       "      <th></th>\n",
       "      <th>Time_Spent</th>\n",
       "      <th>Age</th>\n",
       "      <th>Avg_Income</th>\n",
       "      <th>Internet_Usage</th>\n",
       "      <th>Ad_Topic</th>\n",
       "      <th>City_code</th>\n",
       "      <th>Male</th>\n",
       "      <th>Time_Period</th>\n",
       "      <th>Weekday</th>\n",
       "      <th>Month</th>\n",
       "      <th>Clicked</th>\n",
       "    </tr>\n",
       "  </thead>\n",
       "  <tbody>\n",
       "    <tr>\n",
       "      <th>0</th>\n",
       "      <td>87.97</td>\n",
       "      <td>43</td>\n",
       "      <td>55901.12</td>\n",
       "      <td>185.46</td>\n",
       "      <td>product_11</td>\n",
       "      <td>City_5</td>\n",
       "      <td>No</td>\n",
       "      <td>Mid-Night</td>\n",
       "      <td>Thursday</td>\n",
       "      <td>July</td>\n",
       "      <td>0</td>\n",
       "    </tr>\n",
       "    <tr>\n",
       "      <th>1</th>\n",
       "      <td>51.63</td>\n",
       "      <td>50</td>\n",
       "      <td>39132.00</td>\n",
       "      <td>176.73</td>\n",
       "      <td>product_8</td>\n",
       "      <td>City_1</td>\n",
       "      <td>No</td>\n",
       "      <td>Evening</td>\n",
       "      <td>Saturday</td>\n",
       "      <td>June</td>\n",
       "      <td>1</td>\n",
       "    </tr>\n",
       "    <tr>\n",
       "      <th>2</th>\n",
       "      <td>82.37</td>\n",
       "      <td>38</td>\n",
       "      <td>57032.36</td>\n",
       "      <td>210.60</td>\n",
       "      <td>product_6</td>\n",
       "      <td>City_2</td>\n",
       "      <td>No</td>\n",
       "      <td>Morning</td>\n",
       "      <td>Tuesday</td>\n",
       "      <td>January</td>\n",
       "      <td>0</td>\n",
       "    </tr>\n",
       "    <tr>\n",
       "      <th>3</th>\n",
       "      <td>62.06</td>\n",
       "      <td>45</td>\n",
       "      <td>48868.00</td>\n",
       "      <td>190.05</td>\n",
       "      <td>product_19</td>\n",
       "      <td>City_3</td>\n",
       "      <td>Yes</td>\n",
       "      <td>Morning</td>\n",
       "      <td>Thursday</td>\n",
       "      <td>April</td>\n",
       "      <td>1</td>\n",
       "    </tr>\n",
       "    <tr>\n",
       "      <th>4</th>\n",
       "      <td>77.66</td>\n",
       "      <td>31</td>\n",
       "      <td>61608.23</td>\n",
       "      <td>204.86</td>\n",
       "      <td>product_11</td>\n",
       "      <td>City_2</td>\n",
       "      <td>No</td>\n",
       "      <td>Noon</td>\n",
       "      <td>Thursday</td>\n",
       "      <td>January</td>\n",
       "      <td>0</td>\n",
       "    </tr>\n",
       "  </tbody>\n",
       "</table>\n",
       "</div>"
      ],
      "text/plain": [
       "   Time_Spent  Age  Avg_Income  Internet_Usage    Ad_Topic City_code Male  \\\n",
       "0       87.97   43    55901.12          185.46  product_11    City_5   No   \n",
       "1       51.63   50    39132.00          176.73   product_8    City_1   No   \n",
       "2       82.37   38    57032.36          210.60   product_6    City_2   No   \n",
       "3       62.06   45    48868.00          190.05  product_19    City_3  Yes   \n",
       "4       77.66   31    61608.23          204.86  product_11    City_2   No   \n",
       "\n",
       "  Time_Period   Weekday    Month  Clicked  \n",
       "0   Mid-Night  Thursday     July        0  \n",
       "1     Evening  Saturday     June        1  \n",
       "2     Morning   Tuesday  January        0  \n",
       "3     Morning  Thursday    April        1  \n",
       "4        Noon  Thursday  January        0  "
      ]
     },
     "execution_count": 8,
     "metadata": {},
     "output_type": "execute_result"
    }
   ],
   "source": [
    "# Deleting those columns which are not useful in predictive analysis \n",
    "# because these variables are qualitative\n",
    "UselessColumns = [\"VistID\", \"Country_Name\" , \"Year\"]\n",
    "AdClickData = AdClickData.drop(UselessColumns,axis=1)\n",
    "AdClickData.head()"
   ]
  },
  {
   "cell_type": "markdown",
   "metadata": {},
   "source": [
    "# Visual Exploratory Data Analysis\n",
    "Categorical variables: Bar plot\n",
    "Continuous variables: Histogram\n",
    "Visualize distribution of all the Categorical Predictor variables in the data using bar plots\n",
    "We can spot a categorical variable in the data by looking at the unique values in them. Typically a categorical variable contains less than 20 Unique values AND there is repetition of values, which means the data can be grouped by those unique values.\n",
    "\n",
    "Based on the Basic Data Exploration above, we have spotted six categorical predictors in the data\n",
    "\n",
    "Categorical Predictors: \"Ad_Topic\", \"City_code\", \"Male\" ,\"Time_Period\", \"Weekday\", \"Month\"\n",
    "\n",
    "We use bar charts to see how the data is distributed for these categorical columns."
   ]
  },
  {
   "cell_type": "code",
   "execution_count": 9,
   "metadata": {},
   "outputs": [
    {
     "data": {
      "image/png": "[encoded data removed]",
      "text/plain": [
       "<Figure size 4000x600 with 6 Axes>"
      ]
     },
     "metadata": {},
     "output_type": "display_data"
    }
   ],
   "source": [
    "# Plotting multiple bar charts at once for categorical variables\n",
    "# Since there is no default function which can plot bar charts for \n",
    "# multiple columns at once\n",
    "# we are defining our own function for the same\n",
    "\n",
    "def PlotBarCharts(inpData, colsToPlot):\n",
    "    #%matplotlib inline\n",
    "    \n",
    "    import matplotlib.pyplot as plt\n",
    "    \n",
    "    # Generating multiple subplots\n",
    "    fig, subPlot=plt.subplots(nrows=1, ncols=len(colsToPlot), figsize=(40,6))\n",
    "    fig.suptitle('Bar charts of: '+ str(colsToPlot))\n",
    "\n",
    "    for colName, plotNumber in zip(colsToPlot, range(len(colsToPlot))):\n",
    "        inpData.groupby(colName).size().plot(kind='bar',ax=subPlot[plotNumber])\n",
    "\n",
    "#####################################################################\n",
    "# Calling the function\n",
    "PlotBarCharts(inpData=AdClickData, colsToPlot=[\"Ad_Topic\",\"City_code\", \"Male\",\n",
    "                                               \"Time_Period\", \"Weekday\",\"Month\"])"
   ]
  },
  {
   "cell_type": "markdown",
   "metadata": {},
   "source": [
    "# Bar Charts Interpretation\n",
    "These bar charts represent the frequencies of each category in the Y-axis and the category names in the X-axis.\n",
    "\n",
    "The ideal bar chart looks like the chart of \"Weekday\" and \"Month\" column. Where each category has comparable frequency. Hence, there are enough rows for each category in the data for the ML algorithm to learn.\n",
    "\n",
    "If there is a column which shows too skewed distribution where there is only one dominant bar and the other categories are present in very low numbers. These kind of columns may not be very helpful in machine learning. We confirm this in the correlation analysis section and take a final call to select or reject the column.\n",
    "\n",
    "In this data, all the categorical columns have satisfactory distribution for machine learning.\n",
    "\n",
    "Selected Categorical Variables: All the categorical variables are selected for further analysis.\n",
    "\n",
    "\"Ad_Topic\",\"City_code\", \"Male\", \"Time_Period\", \"Weekday\",\"Month\"\n",
    "\n",
    "Visualize distribution of all the Continuous Predictor variables in the data using histograms\n",
    "Based on the Basic Data Exploration, Four continuous predictor variables were found \"Time_Spent\", \"Age\", \"Avg_Income\" and \"Internet_Usage\""
   ]
  },
  {
   "cell_type": "code",
   "execution_count": 10,
   "metadata": {},
   "outputs": [
    {
     "data": {
      "text/plain": [
       "array([[<Axes: title={'center': 'Time_Spent'}>,\n",
       "        <Axes: title={'center': 'Age'}>],\n",
       "       [<Axes: title={'center': 'Avg_Income'}>,\n",
       "        <Axes: title={'center': 'Internet_Usage'}>]], dtype=object)"
      ]
     },
     "execution_count": 10,
     "metadata": {},
     "output_type": "execute_result"
    },
    {
     "data": {
      "image/png": "[encoded data removed]",
      "text/plain": [
       "<Figure size 1800x1000 with 4 Axes>"
      ]
     },
     "metadata": {},
     "output_type": "display_data"
    }
   ],
   "source": [
    "# Plotting histograms of multiple columns together\n",
    "AdClickData.hist([\"Time_Spent\", \"Age\", \"Avg_Income\", \"Internet_Usage\"], figsize=(18,10))"
   ]
  },
  {
   "cell_type": "markdown",
   "metadata": {},
   "source": [
    "# Histogram Interpretation\n",
    "## Histograms shows us the data distribution for a single continuous variable.\n",
    "\n",
    "The X-axis shows the range of values and Y-axis represent the number of values in that range. For example, in the above histogram of \"Time_Spent\", there are around 1200 rows in data that has a value between 70 to 75.\n",
    "\n",
    "The ideal outcome for histogram is a bell curve or slightly skewed bell curve. If there is too much skewness, then outlier treatment should be done and the column should be re-examined, if that also does not solve the problem then only reject the column.\n",
    "\n",
    "Selected Continuous Variables:\n",
    "\n",
    "Time_Spent : Selected.\n",
    "Age: Selected.\n",
    "Avg_Income: Selected. Slightly negative skewed distribution, acceptable.\n",
    "Internet_Usage: Selected."
   ]
  },
  {
   "cell_type": "markdown",
   "metadata": {},
   "source": [
    "# Outlier treatment\n",
    "Outliers are extreme values in the data which are far away from most of the values. You can see them as the tails in the histogram.\n",
    "\n",
    "Outlier must be treated one column at a time. As the treatment will be slightly different for each column.\n",
    "\n",
    "Why I should treat the outliers?\n",
    "\n",
    "Outliers bias the training of machine learning models. As the algorithm tries to fit the extreme value, it goes away from majority of the data.\n",
    "\n",
    "There are below two options to treat outliers in the data.\n",
    "\n",
    "Option-1: Delete the outlier Records. Only if there are just few rows lost.\n",
    "Option-2: Impute the outlier values with a logical business value\n",
    "In this data none of the continuous predictors had outliers, hence treatment is not required."
   ]
  },
  {
   "cell_type": "markdown",
   "metadata": {},
   "source": [
    "# Missing values treatment\n",
    "Missing values are treated for each column separately.\n",
    "\n",
    "If a column has more than 30% data missing, then missing value treatment cannot be done. That column must be rejected because too much information is missing.\n",
    "\n",
    "There are below options for treating missing values in data.\n",
    "\n",
    "Delete the missing value rows if there are only few records\n",
    "Impute the missing values with MEDIAN value for continuous variables\n",
    "Impute the missing values with MODE value for categorical variables\n",
    "Interpolate the values based on nearby values\n",
    "Interpolate the values based on business logic"
   ]
  },
  {
   "cell_type": "code",
   "execution_count": 11,
   "metadata": {},
   "outputs": [
    {
     "data": {
      "text/plain": [
       "Time_Spent        0\n",
       "Age               0\n",
       "Avg_Income        0\n",
       "Internet_Usage    0\n",
       "Ad_Topic          0\n",
       "City_code         0\n",
       "Male              0\n",
       "Time_Period       0\n",
       "Weekday           0\n",
       "Month             0\n",
       "Clicked           0\n",
       "dtype: int64"
      ]
     },
     "execution_count": 11,
     "metadata": {},
     "output_type": "execute_result"
    }
   ],
   "source": [
    "# Finding how many missing values are there for each column\n",
    "AdClickData.isnull().sum()"
   ]
  },
  {
   "cell_type": "markdown",
   "metadata": {},
   "source": [
    "# Feature Selection\n",
    "Now its time to finally choose the best columns(Features) which are correlated to the Target variable. This can be done directly by measuring the correlation values or ANOVA/Chi-Square tests. However, it is always helpful to visualize the relation between the Target variable and each of the predictors to get a better sense of data.\n",
    "\n",
    "I have listed below the techniques used for visualizing relationship between two variables as well as measuring the strength statistically.\n",
    "\n",
    "Visual exploration of relationship between variables\n",
    "Continuous Vs Continuous ---- Scatter Plot\n",
    "Categorical Vs Continuous---- Box Plot\n",
    "Categorical Vs Categorical---- Grouped Bar Plots\n",
    "Statistical measurement of relationship strength between variables\n",
    "Continuous Vs Continuous ---- Correlation matrix\n",
    "Categorical Vs Continuous---- ANOVA test\n",
    "Categorical Vs Categorical--- Chi-Square test\n",
    "In this case study the Target variable is categorical, hence below two scenarios will be present\n",
    "\n",
    "Categorical Target Variable Vs Continuous Predictor\n",
    "Categorical Target Variable Vs Categorical Predictor"
   ]
  },
  {
   "cell_type": "markdown",
   "metadata": {},
   "source": [
    "# Relationship exploration: Categorical Vs Continuous -- Box Plots¶\n",
    "When the target variable is Categorical and the predictor variable is Continuous we analyze the relation using bar plots/Boxplots and measure the strength of relation using Anova test"
   ]
  },
  {
   "cell_type": "code",
   "execution_count": 12,
   "metadata": {},
   "outputs": [
    {
     "data": {
      "image/png": "[encoded data removed]",
      "text/plain": [
       "<Figure size 1800x500 with 4 Axes>"
      ]
     },
     "metadata": {},
     "output_type": "display_data"
    }
   ],
   "source": [
    "# Box plots for Categorical Target Variable \"Clicked\" and continuous predictors\n",
    "ContinuousColsList=[\"Time_Spent\", \"Age\", \"Avg_Income\", \"Internet_Usage\"]\n",
    "\n",
    "import matplotlib.pyplot as plt\n",
    "fig, PlotCanvas=plt.subplots(nrows=1, ncols=len(ContinuousColsList), figsize=(18,5))\n",
    "\n",
    "# Creating box plots for each continuous predictor against the Target Variable \"Clicked\"\n",
    "for PredictorCol , i in zip(ContinuousColsList, range(len(ContinuousColsList))):\n",
    "    AdClickData.boxplot(column=PredictorCol, by='Clicked', figsize=(5,5), vert=True, ax=PlotCanvas[i])"
   ]
  },
  {
   "cell_type": "markdown",
   "metadata": {},
   "source": [
    "# Box-Plots interpretation\n",
    "What should you look for in these box plots?\n",
    "\n",
    "These plots gives an idea about the data distribution of continuous predictor in the Y-axis for each of the category in the X-Axis.\n",
    "\n",
    "If the distribution looks similar for each category(Boxes are in the same line), that means the the continuous variable has NO effect on the target variable. Hence, the variables are not correlated to each other.\n",
    "\n",
    "For example, look at the first chart \"Time_Spent\" Vs \"Clicked\". The boxes are NOT in the same line! I can see the people who clicked on ads have lesser Time_Spent as compared to people who did not click, hence I have some logic to learn using ML algorithms. So this column is correlated with the Clicked column.\n",
    "\n",
    "The other other three charts also exhibit same characteristics, hence all four continuous predictors are correlated with the target variable.\n",
    "\n",
    "We confirm this by looking at the results of ANOVA test below"
   ]
  },
  {
   "cell_type": "markdown",
   "metadata": {},
   "source": [
    "# *Statistical Feature Selection (Categorical Vs Continuous) using ANOVA test\n",
    "Analysis of variance(ANOVA) is performed to check if there is any relationship between the given continuous and categorical variable\n",
    "\n",
    "Assumption(H0): There is NO relation between the given variables (i.e. The average(mean) values of the numeric Predictor variable is same for all the groups in the categorical Target variable)\n",
    "ANOVA Test result: Probability of H0 being true"
   ]
  },
  {
   "cell_type": "code",
   "execution_count": 13,
   "metadata": {},
   "outputs": [],
   "source": [
    "# Defining a function to find the statistical relationship with all the categorical variables\n",
    "def FunctionAnova(inpData, TargetVariable, ContinuousPredictorList):\n",
    "    from scipy.stats import f_oneway\n",
    "\n",
    "    # Creating an empty list of final selected predictors\n",
    "    SelectedPredictors=[]\n",
    "    \n",
    "    print('##### ANOVA Results ##### \\n')\n",
    "    for predictor in ContinuousPredictorList:\n",
    "        CategoryGroupLists=inpData.groupby(TargetVariable)[predictor].apply(list)\n",
    "        AnovaResults = f_oneway(*CategoryGroupLists)\n",
    "        \n",
    "        # If the ANOVA P-Value is <0.05, that means we reject H0\n",
    "        if (AnovaResults[1] < 0.05):\n",
    "            print(predictor, 'is correlated with', TargetVariable, '| P-Value:', AnovaResults[1])\n",
    "            SelectedPredictors.append(predictor)\n",
    "        else:\n",
    "            print(predictor, 'is NOT correlated with', TargetVariable, '| P-Value:', AnovaResults[1])\n",
    "    \n",
    "    return(SelectedPredictors)"
   ]
  },
  {
   "cell_type": "code",
   "execution_count": 14,
   "metadata": {},
   "outputs": [
    {
     "name": "stdout",
     "output_type": "stream",
     "text": [
      "##### ANOVA Results ##### \n",
      "\n",
      "Time_Spent is correlated with Clicked | P-Value: 0.0\n",
      "Age is correlated with Clicked | P-Value: 6.40789044460054e-91\n",
      "Avg_Income is correlated with Clicked | P-Value: 0.0\n",
      "Internet_Usage is correlated with Clicked | P-Value: 0.0\n"
     ]
    },
    {
     "data": {
      "text/plain": [
       "['Time_Spent', 'Age', 'Avg_Income', 'Internet_Usage']"
      ]
     },
     "execution_count": 14,
     "metadata": {},
     "output_type": "execute_result"
    }
   ],
   "source": [
    "# Calling the function to check which categorical variables are correlated with target\n",
    "ContinuousVariables=[\"Time_Spent\", \"Age\", \"Avg_Income\", \"Internet_Usage\"]\n",
    "FunctionAnova(inpData=AdClickData, TargetVariable='Clicked', ContinuousPredictorList=ContinuousVariables)"
   ]
  },
  {
   "cell_type": "markdown",
   "metadata": {},
   "source": [
    "# Relationship exploration: Categorical Vs Categorical -- Grouped Bar Charts\n",
    "When the target variable is Categorical and the predictor is also Categorical then we explore the correlation between them visually using barplots and statistically using Chi-square test"
   ]
  },
  {
   "cell_type": "code",
   "execution_count": 15,
   "metadata": {},
   "outputs": [
    {
     "data": {
      "application/vnd.microsoft.datawrangler.viewer.v0+json": {
       "columns": [
        {
         "name": "Male",
         "rawType": "object",
         "type": "string"
        },
        {
         "name": "0",
         "rawType": "int64",
         "type": "integer"
        },
        {
         "name": "1",
         "rawType": "int64",
         "type": "integer"
        }
       ],
       "conversionMethod": "pd.DataFrame",
       "ref": "8219edf1-53fb-4bff-9bf6-0458aed73ef0",
       "rows": [
        [
         "No",
         "1896",
         "1675"
        ],
        [
         "Yes",
         "1723",
         "1363"
        ]
       ],
       "shape": {
        "columns": 2,
        "rows": 2
       }
      },
      "text/html": [
       "<div>\n",
       "<style scoped>\n",
       "    .dataframe tbody tr th:only-of-type {\n",
       "        vertical-align: middle;\n",
       "    }\n",
       "\n",
       "    .dataframe tbody tr th {\n",
       "        vertical-align: top;\n",
       "    }\n",
       "\n",
       "    .dataframe thead th {\n",
       "        text-align: right;\n",
       "    }\n",
       "</style>\n",
       "<table border=\"1\" class=\"dataframe\">\n",
       "  <thead>\n",
       "    <tr style=\"text-align: right;\">\n",
       "      <th>Clicked</th>\n",
       "      <th>0</th>\n",
       "      <th>1</th>\n",
       "    </tr>\n",
       "    <tr>\n",
       "      <th>Male</th>\n",
       "      <th></th>\n",
       "      <th></th>\n",
       "    </tr>\n",
       "  </thead>\n",
       "  <tbody>\n",
       "    <tr>\n",
       "      <th>No</th>\n",
       "      <td>1896</td>\n",
       "      <td>1675</td>\n",
       "    </tr>\n",
       "    <tr>\n",
       "      <th>Yes</th>\n",
       "      <td>1723</td>\n",
       "      <td>1363</td>\n",
       "    </tr>\n",
       "  </tbody>\n",
       "</table>\n",
       "</div>"
      ],
      "text/plain": [
       "Clicked     0     1\n",
       "Male               \n",
       "No       1896  1675\n",
       "Yes      1723  1363"
      ]
     },
     "execution_count": 15,
     "metadata": {},
     "output_type": "execute_result"
    }
   ],
   "source": [
    "# Cross tablulation between two categorical variables\n",
    "CrossTabResult=pd.crosstab(index=AdClickData['Male'], columns=AdClickData['Clicked'])\n",
    "CrossTabResult"
   ]
  },
  {
   "cell_type": "code",
   "execution_count": 16,
   "metadata": {},
   "outputs": [
    {
     "data": {
      "image/png": "[encoded data removed]",
      "text/plain": [
       "<Figure size 1500x6000 with 6 Axes>"
      ]
     },
     "metadata": {},
     "output_type": "display_data"
    }
   ],
   "source": [
    "# Visual Inference using Grouped Bar charts\n",
    "CategoricalColsList=[\"Ad_Topic\",\"City_code\", \"Male\",\n",
    "                     \"Time_Period\", \"Weekday\",\"Month\"]\n",
    "\n",
    "import matplotlib.pyplot as plt\n",
    "fig, PlotCanvas=plt.subplots(nrows=len(CategoricalColsList), ncols=1, figsize=(15,60))\n",
    "\n",
    "# Creating Grouped bar plots for each categorical predictor against the Target Variable \"Clicked\"\n",
    "for CategoricalCol , i in zip(CategoricalColsList, range(len(CategoricalColsList))):\n",
    "    CrossTabResult=pd.crosstab(index=AdClickData[CategoricalCol], columns=AdClickData['Clicked'])\n",
    "    CrossTabResult.plot.bar(color=['red','blue'], ax=PlotCanvas[i])"
   ]
  },
  {
   "cell_type": "markdown",
   "metadata": {},
   "source": [
    "# Grouped Bar charts Interpretation\n",
    "What to look for in these grouped bar charts?\n",
    "\n",
    "These grouped bar charts show the frequency in the Y-Axis and the category in the X-Axis. If the ratio of bars is similar across all categories, then the two columns are not correlated. For example, look at the Month Vs Clicked plot. The Clicked vs Not-Clicked ratio for each month is similar, it means Month does not affect the Ad Click!. Hence, these two variables are not correlated.\n",
    "\n",
    "On the other hand, look at the Time_Period vs Clicked plot. The number of Clicks are very high in the Early Morning! It means Time_Period affects the Ad Click! Hence, two columns are correlated with each other.\n",
    "\n",
    "We confirm this analysis in below section by using Chi-Square Tests."
   ]
  },
  {
   "cell_type": "markdown",
   "metadata": {},
   "source": [
    "# Statistical Feature Selection (Categorical Vs Categorical) using Chi-Square Test\n",
    "Chi-Square test is conducted to check the correlation between two categorical variables\n",
    "\n",
    "Assumption(H0): The two columns are NOT related to each other\n",
    "Result of Chi-Sq Test: The Probability of H0 being True\n",
    "More information on ChiSq: https://www.mathsisfun.com/data/chi-square-test.html"
   ]
  },
  {
   "cell_type": "code",
   "execution_count": 17,
   "metadata": {},
   "outputs": [],
   "source": [
    "# Writing a function to find the correlation of all categorical variables with the Target variable\n",
    "def FunctionChisq(inpData, TargetVariable, CategoricalVariablesList):\n",
    "    from scipy.stats import chi2_contingency\n",
    "    \n",
    "    # Creating an empty list of final selected predictors\n",
    "    SelectedPredictors=[]\n",
    "\n",
    "    for predictor in CategoricalVariablesList:\n",
    "        CrossTabResult=pd.crosstab(index=inpData[TargetVariable], columns=inpData[predictor])\n",
    "        ChiSqResult = chi2_contingency(CrossTabResult)\n",
    "        \n",
    "        # If the ChiSq P-Value is <0.05, that means we reject H0\n",
    "        if (ChiSqResult[1] < 0.05):\n",
    "            print(predictor, 'is correlated with', TargetVariable, '| P-Value:', ChiSqResult[1])\n",
    "            SelectedPredictors.append(predictor)\n",
    "        else:\n",
    "            print(predictor, 'is NOT correlated with', TargetVariable, '| P-Value:', ChiSqResult[1])        \n",
    "            \n",
    "    return(SelectedPredictors)"
   ]
  },
  {
   "cell_type": "code",
   "execution_count": 18,
   "metadata": {},
   "outputs": [
    {
     "name": "stdout",
     "output_type": "stream",
     "text": [
      "Ad_Topic is correlated with Clicked | P-Value: 1.2676573604736546e-24\n",
      "City_code is correlated with Clicked | P-Value: 2.6667953391697526e-88\n",
      "Male is correlated with Clicked | P-Value: 0.026951713017450658\n",
      "Time_Period is correlated with Clicked | P-Value: 4.465745015735696e-47\n",
      "Weekday is NOT correlated with Clicked | P-Value: 0.7226317326250824\n",
      "Month is NOT correlated with Clicked | P-Value: 0.42290490972633016\n"
     ]
    },
    {
     "data": {
      "text/plain": [
       "['Ad_Topic', 'City_code', 'Male', 'Time_Period']"
      ]
     },
     "execution_count": 18,
     "metadata": {},
     "output_type": "execute_result"
    }
   ],
   "source": [
    "CategoricalVariables=[\"Ad_Topic\",\"City_code\", \"Male\",\n",
    "                     \"Time_Period\", \"Weekday\",\"Month\"]\n",
    "\n",
    "# Calling the function\n",
    "FunctionChisq(inpData=AdClickData, \n",
    "              TargetVariable='Clicked',\n",
    "              CategoricalVariablesList= CategoricalVariables)"
   ]
  },
  {
   "cell_type": "markdown",
   "metadata": {},
   "source": [
    "# Selecting final predictors for Machine Learning\n",
    "Based on the above tests, selecting the final columns for machine learning"
   ]
  },
  {
   "cell_type": "code",
   "execution_count": 19,
   "metadata": {},
   "outputs": [
    {
     "data": {
      "application/vnd.microsoft.datawrangler.viewer.v0+json": {
       "columns": [
        {
         "name": "index",
         "rawType": "int64",
         "type": "integer"
        },
        {
         "name": "Time_Spent",
         "rawType": "float64",
         "type": "float"
        },
        {
         "name": "Age",
         "rawType": "int64",
         "type": "integer"
        },
        {
         "name": "Avg_Income",
         "rawType": "float64",
         "type": "float"
        },
        {
         "name": "Internet_Usage",
         "rawType": "float64",
         "type": "float"
        },
        {
         "name": "Ad_Topic",
         "rawType": "object",
         "type": "string"
        },
        {
         "name": "City_code",
         "rawType": "object",
         "type": "string"
        },
        {
         "name": "Male",
         "rawType": "object",
         "type": "string"
        },
        {
         "name": "Time_Period",
         "rawType": "object",
         "type": "string"
        }
       ],
       "conversionMethod": "pd.DataFrame",
       "ref": "b5ff9577-644f-4a57-ae67-7e45c16d7c23",
       "rows": [
        [
         "0",
         "87.97",
         "43",
         "55901.12",
         "185.46",
         "product_11",
         "City_5",
         "No",
         "Mid-Night"
        ],
        [
         "1",
         "51.63",
         "50",
         "39132.0",
         "176.73",
         "product_8",
         "City_1",
         "No",
         "Evening"
        ],
        [
         "2",
         "82.37",
         "38",
         "57032.36",
         "210.6",
         "product_6",
         "City_2",
         "No",
         "Morning"
        ],
        [
         "3",
         "62.06",
         "45",
         "48868.0",
         "190.05",
         "product_19",
         "City_3",
         "Yes",
         "Morning"
        ],
        [
         "4",
         "77.66",
         "31",
         "61608.23",
         "204.86",
         "product_11",
         "City_2",
         "No",
         "Noon"
        ]
       ],
       "shape": {
        "columns": 8,
        "rows": 5
       }
      },
      "text/html": [
       "<div>\n",
       "<style scoped>\n",
       "    .dataframe tbody tr th:only-of-type {\n",
       "        vertical-align: middle;\n",
       "    }\n",
       "\n",
       "    .dataframe tbody tr th {\n",
       "        vertical-align: top;\n",
       "    }\n",
       "\n",
       "    .dataframe thead th {\n",
       "        text-align: right;\n",
       "    }\n",
       "</style>\n",
       "<table border=\"1\" class=\"dataframe\">\n",
       "  <thead>\n",
       "    <tr style=\"text-align: right;\">\n",
       "      <th></th>\n",
       "      <th>Time_Spent</th>\n",
       "      <th>Age</th>\n",
       "      <th>Avg_Income</th>\n",
       "      <th>Internet_Usage</th>\n",
       "      <th>Ad_Topic</th>\n",
       "      <th>City_code</th>\n",
       "      <th>Male</th>\n",
       "      <th>Time_Period</th>\n",
       "    </tr>\n",
       "  </thead>\n",
       "  <tbody>\n",
       "    <tr>\n",
       "      <th>0</th>\n",
       "      <td>87.97</td>\n",
       "      <td>43</td>\n",
       "      <td>55901.12</td>\n",
       "      <td>185.46</td>\n",
       "      <td>product_11</td>\n",
       "      <td>City_5</td>\n",
       "      <td>No</td>\n",
       "      <td>Mid-Night</td>\n",
       "    </tr>\n",
       "    <tr>\n",
       "      <th>1</th>\n",
       "      <td>51.63</td>\n",
       "      <td>50</td>\n",
       "      <td>39132.00</td>\n",
       "      <td>176.73</td>\n",
       "      <td>product_8</td>\n",
       "      <td>City_1</td>\n",
       "      <td>No</td>\n",
       "      <td>Evening</td>\n",
       "    </tr>\n",
       "    <tr>\n",
       "      <th>2</th>\n",
       "      <td>82.37</td>\n",
       "      <td>38</td>\n",
       "      <td>57032.36</td>\n",
       "      <td>210.60</td>\n",
       "      <td>product_6</td>\n",
       "      <td>City_2</td>\n",
       "      <td>No</td>\n",
       "      <td>Morning</td>\n",
       "    </tr>\n",
       "    <tr>\n",
       "      <th>3</th>\n",
       "      <td>62.06</td>\n",
       "      <td>45</td>\n",
       "      <td>48868.00</td>\n",
       "      <td>190.05</td>\n",
       "      <td>product_19</td>\n",
       "      <td>City_3</td>\n",
       "      <td>Yes</td>\n",
       "      <td>Morning</td>\n",
       "    </tr>\n",
       "    <tr>\n",
       "      <th>4</th>\n",
       "      <td>77.66</td>\n",
       "      <td>31</td>\n",
       "      <td>61608.23</td>\n",
       "      <td>204.86</td>\n",
       "      <td>product_11</td>\n",
       "      <td>City_2</td>\n",
       "      <td>No</td>\n",
       "      <td>Noon</td>\n",
       "    </tr>\n",
       "  </tbody>\n",
       "</table>\n",
       "</div>"
      ],
      "text/plain": [
       "   Time_Spent  Age  Avg_Income  Internet_Usage    Ad_Topic City_code Male  \\\n",
       "0       87.97   43    55901.12          185.46  product_11    City_5   No   \n",
       "1       51.63   50    39132.00          176.73   product_8    City_1   No   \n",
       "2       82.37   38    57032.36          210.60   product_6    City_2   No   \n",
       "3       62.06   45    48868.00          190.05  product_19    City_3  Yes   \n",
       "4       77.66   31    61608.23          204.86  product_11    City_2   No   \n",
       "\n",
       "  Time_Period  \n",
       "0   Mid-Night  \n",
       "1     Evening  \n",
       "2     Morning  \n",
       "3     Morning  \n",
       "4        Noon  "
      ]
     },
     "execution_count": 19,
     "metadata": {},
     "output_type": "execute_result"
    }
   ],
   "source": [
    "SelectedColumns=[\"Time_Spent\", \"Age\", \"Avg_Income\", \"Internet_Usage\",\n",
    "                \"Ad_Topic\", \"City_code\", \"Male\", \"Time_Period\"]\n",
    "\n",
    "# Selecting final columns\n",
    "DataForML=AdClickData[SelectedColumns]\n",
    "DataForML.head()"
   ]
  },
  {
   "cell_type": "code",
   "execution_count": 20,
   "metadata": {},
   "outputs": [],
   "source": [
    "# Saving this final data for reference during deployment\n",
    "DataForML.to_pickle('DataForML.pkl')"
   ]
  },
  {
   "cell_type": "markdown",
   "metadata": {},
   "source": [
    "# Data Pre-processing for Machine Learning\n",
    "List of steps performed on predictor variables before data can be used for machine learning\n",
    "\n",
    "Converting each Ordinal Categorical columns to numeric\n",
    "Converting Binary nominal Categorical columns to numeric using 1/0 mapping\n",
    "Converting all other nominal categorical columns to numeric using pd.get_dummies()\n",
    "Data Transformation (Optional): Standardization/Normalization/log/sqrt. Important if you are using distance based algorithms like KNN, or Neural Networks\n",
    "\n",
    "In this data there is no Ordinal categorical variable."
   ]
  },
  {
   "cell_type": "markdown",
   "metadata": {},
   "source": [
    "# Converting the binary nominal variable to numeric using 1/0 mapping"
   ]
  },
  {
   "cell_type": "code",
   "execution_count": 21,
   "metadata": {},
   "outputs": [
    {
     "data": {
      "application/vnd.microsoft.datawrangler.viewer.v0+json": {
       "columns": [
        {
         "name": "index",
         "rawType": "int64",
         "type": "integer"
        },
        {
         "name": "Time_Spent",
         "rawType": "float64",
         "type": "float"
        },
        {
         "name": "Age",
         "rawType": "int64",
         "type": "integer"
        },
        {
         "name": "Avg_Income",
         "rawType": "float64",
         "type": "float"
        },
        {
         "name": "Internet_Usage",
         "rawType": "float64",
         "type": "float"
        },
        {
         "name": "Ad_Topic",
         "rawType": "object",
         "type": "string"
        },
        {
         "name": "City_code",
         "rawType": "object",
         "type": "string"
        },
        {
         "name": "Male",
         "rawType": "int64",
         "type": "integer"
        },
        {
         "name": "Time_Period",
         "rawType": "object",
         "type": "string"
        }
       ],
       "conversionMethod": "pd.DataFrame",
       "ref": "e97db33d-bc5e-4dfb-97fb-5c821240b9c2",
       "rows": [
        [
         "0",
         "87.97",
         "43",
         "55901.12",
         "185.46",
         "product_11",
         "City_5",
         "0",
         "Mid-Night"
        ],
        [
         "1",
         "51.63",
         "50",
         "39132.0",
         "176.73",
         "product_8",
         "City_1",
         "0",
         "Evening"
        ],
        [
         "2",
         "82.37",
         "38",
         "57032.36",
         "210.6",
         "product_6",
         "City_2",
         "0",
         "Morning"
        ],
        [
         "3",
         "62.06",
         "45",
         "48868.0",
         "190.05",
         "product_19",
         "City_3",
         "1",
         "Morning"
        ],
        [
         "4",
         "77.66",
         "31",
         "61608.23",
         "204.86",
         "product_11",
         "City_2",
         "0",
         "Noon"
        ]
       ],
       "shape": {
        "columns": 8,
        "rows": 5
       }
      },
      "text/html": [
       "<div>\n",
       "<style scoped>\n",
       "    .dataframe tbody tr th:only-of-type {\n",
       "        vertical-align: middle;\n",
       "    }\n",
       "\n",
       "    .dataframe tbody tr th {\n",
       "        vertical-align: top;\n",
       "    }\n",
       "\n",
       "    .dataframe thead th {\n",
       "        text-align: right;\n",
       "    }\n",
       "</style>\n",
       "<table border=\"1\" class=\"dataframe\">\n",
       "  <thead>\n",
       "    <tr style=\"text-align: right;\">\n",
       "      <th></th>\n",
       "      <th>Time_Spent</th>\n",
       "      <th>Age</th>\n",
       "      <th>Avg_Income</th>\n",
       "      <th>Internet_Usage</th>\n",
       "      <th>Ad_Topic</th>\n",
       "      <th>City_code</th>\n",
       "      <th>Male</th>\n",
       "      <th>Time_Period</th>\n",
       "    </tr>\n",
       "  </thead>\n",
       "  <tbody>\n",
       "    <tr>\n",
       "      <th>0</th>\n",
       "      <td>87.97</td>\n",
       "      <td>43</td>\n",
       "      <td>55901.12</td>\n",
       "      <td>185.46</td>\n",
       "      <td>product_11</td>\n",
       "      <td>City_5</td>\n",
       "      <td>0</td>\n",
       "      <td>Mid-Night</td>\n",
       "    </tr>\n",
       "    <tr>\n",
       "      <th>1</th>\n",
       "      <td>51.63</td>\n",
       "      <td>50</td>\n",
       "      <td>39132.00</td>\n",
       "      <td>176.73</td>\n",
       "      <td>product_8</td>\n",
       "      <td>City_1</td>\n",
       "      <td>0</td>\n",
       "      <td>Evening</td>\n",
       "    </tr>\n",
       "    <tr>\n",
       "      <th>2</th>\n",
       "      <td>82.37</td>\n",
       "      <td>38</td>\n",
       "      <td>57032.36</td>\n",
       "      <td>210.60</td>\n",
       "      <td>product_6</td>\n",
       "      <td>City_2</td>\n",
       "      <td>0</td>\n",
       "      <td>Morning</td>\n",
       "    </tr>\n",
       "    <tr>\n",
       "      <th>3</th>\n",
       "      <td>62.06</td>\n",
       "      <td>45</td>\n",
       "      <td>48868.00</td>\n",
       "      <td>190.05</td>\n",
       "      <td>product_19</td>\n",
       "      <td>City_3</td>\n",
       "      <td>1</td>\n",
       "      <td>Morning</td>\n",
       "    </tr>\n",
       "    <tr>\n",
       "      <th>4</th>\n",
       "      <td>77.66</td>\n",
       "      <td>31</td>\n",
       "      <td>61608.23</td>\n",
       "      <td>204.86</td>\n",
       "      <td>product_11</td>\n",
       "      <td>City_2</td>\n",
       "      <td>0</td>\n",
       "      <td>Noon</td>\n",
       "    </tr>\n",
       "  </tbody>\n",
       "</table>\n",
       "</div>"
      ],
      "text/plain": [
       "   Time_Spent  Age  Avg_Income  Internet_Usage    Ad_Topic City_code  Male  \\\n",
       "0       87.97   43    55901.12          185.46  product_11    City_5     0   \n",
       "1       51.63   50    39132.00          176.73   product_8    City_1     0   \n",
       "2       82.37   38    57032.36          210.60   product_6    City_2     0   \n",
       "3       62.06   45    48868.00          190.05  product_19    City_3     1   \n",
       "4       77.66   31    61608.23          204.86  product_11    City_2     0   \n",
       "\n",
       "  Time_Period  \n",
       "0   Mid-Night  \n",
       "1     Evening  \n",
       "2     Morning  \n",
       "3     Morning  \n",
       "4        Noon  "
      ]
     },
     "execution_count": 21,
     "metadata": {},
     "output_type": "execute_result"
    }
   ],
   "source": [
    "# Treating the binary nominal variables first\n",
    "DataForML['Male'].replace({'Yes':1, 'No':0}, inplace=True)\n",
    "\n",
    "# Looking at data after nominal treatment\n",
    "DataForML.head()"
   ]
  },
  {
   "cell_type": "markdown",
   "metadata": {},
   "source": [
    "# Converting the nominal variable to numeric using get_dummies()¶\n"
   ]
  },
  {
   "cell_type": "code",
   "execution_count": 22,
   "metadata": {},
   "outputs": [
    {
     "data": {
      "application/vnd.microsoft.datawrangler.viewer.v0+json": {
       "columns": [
        {
         "name": "index",
         "rawType": "int64",
         "type": "integer"
        },
        {
         "name": "Time_Spent",
         "rawType": "float64",
         "type": "float"
        },
        {
         "name": "Age",
         "rawType": "int64",
         "type": "integer"
        },
        {
         "name": "Avg_Income",
         "rawType": "float64",
         "type": "float"
        },
        {
         "name": "Internet_Usage",
         "rawType": "float64",
         "type": "float"
        },
        {
         "name": "Male",
         "rawType": "int64",
         "type": "integer"
        },
        {
         "name": "Ad_Topic_product_1",
         "rawType": "bool",
         "type": "boolean"
        },
        {
         "name": "Ad_Topic_product_10",
         "rawType": "bool",
         "type": "boolean"
        },
        {
         "name": "Ad_Topic_product_11",
         "rawType": "bool",
         "type": "boolean"
        },
        {
         "name": "Ad_Topic_product_12",
         "rawType": "bool",
         "type": "boolean"
        },
        {
         "name": "Ad_Topic_product_13",
         "rawType": "bool",
         "type": "boolean"
        },
        {
         "name": "Ad_Topic_product_14",
         "rawType": "bool",
         "type": "boolean"
        },
        {
         "name": "Ad_Topic_product_15",
         "rawType": "bool",
         "type": "boolean"
        },
        {
         "name": "Ad_Topic_product_16",
         "rawType": "bool",
         "type": "boolean"
        },
        {
         "name": "Ad_Topic_product_17",
         "rawType": "bool",
         "type": "boolean"
        },
        {
         "name": "Ad_Topic_product_18",
         "rawType": "bool",
         "type": "boolean"
        },
        {
         "name": "Ad_Topic_product_19",
         "rawType": "bool",
         "type": "boolean"
        },
        {
         "name": "Ad_Topic_product_2",
         "rawType": "bool",
         "type": "boolean"
        },
        {
         "name": "Ad_Topic_product_20",
         "rawType": "bool",
         "type": "boolean"
        },
        {
         "name": "Ad_Topic_product_21",
         "rawType": "bool",
         "type": "boolean"
        },
        {
         "name": "Ad_Topic_product_22",
         "rawType": "bool",
         "type": "boolean"
        },
        {
         "name": "Ad_Topic_product_23",
         "rawType": "bool",
         "type": "boolean"
        },
        {
         "name": "Ad_Topic_product_24",
         "rawType": "bool",
         "type": "boolean"
        },
        {
         "name": "Ad_Topic_product_25",
         "rawType": "bool",
         "type": "boolean"
        },
        {
         "name": "Ad_Topic_product_26",
         "rawType": "bool",
         "type": "boolean"
        },
        {
         "name": "Ad_Topic_product_27",
         "rawType": "bool",
         "type": "boolean"
        },
        {
         "name": "Ad_Topic_product_28",
         "rawType": "bool",
         "type": "boolean"
        },
        {
         "name": "Ad_Topic_product_29",
         "rawType": "bool",
         "type": "boolean"
        },
        {
         "name": "Ad_Topic_product_3",
         "rawType": "bool",
         "type": "boolean"
        },
        {
         "name": "Ad_Topic_product_30",
         "rawType": "bool",
         "type": "boolean"
        },
        {
         "name": "Ad_Topic_product_4",
         "rawType": "bool",
         "type": "boolean"
        },
        {
         "name": "Ad_Topic_product_5",
         "rawType": "bool",
         "type": "boolean"
        },
        {
         "name": "Ad_Topic_product_6",
         "rawType": "bool",
         "type": "boolean"
        },
        {
         "name": "Ad_Topic_product_7",
         "rawType": "bool",
         "type": "boolean"
        },
        {
         "name": "Ad_Topic_product_8",
         "rawType": "bool",
         "type": "boolean"
        },
        {
         "name": "Ad_Topic_product_9",
         "rawType": "bool",
         "type": "boolean"
        },
        {
         "name": "City_code_City_1",
         "rawType": "bool",
         "type": "boolean"
        },
        {
         "name": "City_code_City_2",
         "rawType": "bool",
         "type": "boolean"
        },
        {
         "name": "City_code_City_3",
         "rawType": "bool",
         "type": "boolean"
        },
        {
         "name": "City_code_City_4",
         "rawType": "bool",
         "type": "boolean"
        },
        {
         "name": "City_code_City_5",
         "rawType": "bool",
         "type": "boolean"
        },
        {
         "name": "City_code_City_6",
         "rawType": "bool",
         "type": "boolean"
        },
        {
         "name": "City_code_City_7",
         "rawType": "bool",
         "type": "boolean"
        },
        {
         "name": "City_code_City_8",
         "rawType": "bool",
         "type": "boolean"
        },
        {
         "name": "City_code_City_9",
         "rawType": "bool",
         "type": "boolean"
        },
        {
         "name": "Time_Period_Early-Morning",
         "rawType": "bool",
         "type": "boolean"
        },
        {
         "name": "Time_Period_Evening",
         "rawType": "bool",
         "type": "boolean"
        },
        {
         "name": "Time_Period_Mid-Night",
         "rawType": "bool",
         "type": "boolean"
        },
        {
         "name": "Time_Period_Morning",
         "rawType": "bool",
         "type": "boolean"
        },
        {
         "name": "Time_Period_Night",
         "rawType": "bool",
         "type": "boolean"
        },
        {
         "name": "Time_Period_Noon",
         "rawType": "bool",
         "type": "boolean"
        },
        {
         "name": "Clicked",
         "rawType": "int64",
         "type": "integer"
        }
       ],
       "conversionMethod": "pd.DataFrame",
       "ref": "c48f0168-e8e6-43af-8675-f640d0c1be27",
       "rows": [
        [
         "0",
         "87.97",
         "43",
         "55901.12",
         "185.46",
         "0",
         "False",
         "False",
         "True",
         "False",
         "False",
         "False",
         "False",
         "False",
         "False",
         "False",
         "False",
         "False",
         "False",
         "False",
         "False",
         "False",
         "False",
         "False",
         "False",
         "False",
         "False",
         "False",
         "False",
         "False",
         "False",
         "False",
         "False",
         "False",
         "False",
         "False",
         "False",
         "False",
         "False",
         "False",
         "True",
         "False",
         "False",
         "False",
         "False",
         "False",
         "False",
         "True",
         "False",
         "False",
         "False",
         "0"
        ],
        [
         "1",
         "51.63",
         "50",
         "39132.0",
         "176.73",
         "0",
         "False",
         "False",
         "False",
         "False",
         "False",
         "False",
         "False",
         "False",
         "False",
         "False",
         "False",
         "False",
         "False",
         "False",
         "False",
         "False",
         "False",
         "False",
         "False",
         "False",
         "False",
         "False",
         "False",
         "False",
         "False",
         "False",
         "False",
         "False",
         "True",
         "False",
         "True",
         "False",
         "False",
         "False",
         "False",
         "False",
         "False",
         "False",
         "False",
         "False",
         "True",
         "False",
         "False",
         "False",
         "False",
         "1"
        ],
        [
         "2",
         "82.37",
         "38",
         "57032.36",
         "210.6",
         "0",
         "False",
         "False",
         "False",
         "False",
         "False",
         "False",
         "False",
         "False",
         "False",
         "False",
         "False",
         "False",
         "False",
         "False",
         "False",
         "False",
         "False",
         "False",
         "False",
         "False",
         "False",
         "False",
         "False",
         "False",
         "False",
         "False",
         "True",
         "False",
         "False",
         "False",
         "False",
         "True",
         "False",
         "False",
         "False",
         "False",
         "False",
         "False",
         "False",
         "False",
         "False",
         "False",
         "True",
         "False",
         "False",
         "0"
        ],
        [
         "3",
         "62.06",
         "45",
         "48868.0",
         "190.05",
         "1",
         "False",
         "False",
         "False",
         "False",
         "False",
         "False",
         "False",
         "False",
         "False",
         "False",
         "True",
         "False",
         "False",
         "False",
         "False",
         "False",
         "False",
         "False",
         "False",
         "False",
         "False",
         "False",
         "False",
         "False",
         "False",
         "False",
         "False",
         "False",
         "False",
         "False",
         "False",
         "False",
         "True",
         "False",
         "False",
         "False",
         "False",
         "False",
         "False",
         "False",
         "False",
         "False",
         "True",
         "False",
         "False",
         "1"
        ],
        [
         "4",
         "77.66",
         "31",
         "61608.23",
         "204.86",
         "0",
         "False",
         "False",
         "True",
         "False",
         "False",
         "False",
         "False",
         "False",
         "False",
         "False",
         "False",
         "False",
         "False",
         "False",
         "False",
         "False",
         "False",
         "False",
         "False",
         "False",
         "False",
         "False",
         "False",
         "False",
         "False",
         "False",
         "False",
         "False",
         "False",
         "False",
         "False",
         "True",
         "False",
         "False",
         "False",
         "False",
         "False",
         "False",
         "False",
         "False",
         "False",
         "False",
         "False",
         "False",
         "True",
         "0"
        ]
       ],
       "shape": {
        "columns": 51,
        "rows": 5
       }
      },
      "text/html": [
       "<div>\n",
       "<style scoped>\n",
       "    .dataframe tbody tr th:only-of-type {\n",
       "        vertical-align: middle;\n",
       "    }\n",
       "\n",
       "    .dataframe tbody tr th {\n",
       "        vertical-align: top;\n",
       "    }\n",
       "\n",
       "    .dataframe thead th {\n",
       "        text-align: right;\n",
       "    }\n",
       "</style>\n",
       "<table border=\"1\" class=\"dataframe\">\n",
       "  <thead>\n",
       "    <tr style=\"text-align: right;\">\n",
       "      <th></th>\n",
       "      <th>Time_Spent</th>\n",
       "      <th>Age</th>\n",
       "      <th>Avg_Income</th>\n",
       "      <th>Internet_Usage</th>\n",
       "      <th>Male</th>\n",
       "      <th>Ad_Topic_product_1</th>\n",
       "      <th>Ad_Topic_product_10</th>\n",
       "      <th>Ad_Topic_product_11</th>\n",
       "      <th>Ad_Topic_product_12</th>\n",
       "      <th>Ad_Topic_product_13</th>\n",
       "      <th>...</th>\n",
       "      <th>City_code_City_7</th>\n",
       "      <th>City_code_City_8</th>\n",
       "      <th>City_code_City_9</th>\n",
       "      <th>Time_Period_Early-Morning</th>\n",
       "      <th>Time_Period_Evening</th>\n",
       "      <th>Time_Period_Mid-Night</th>\n",
       "      <th>Time_Period_Morning</th>\n",
       "      <th>Time_Period_Night</th>\n",
       "      <th>Time_Period_Noon</th>\n",
       "      <th>Clicked</th>\n",
       "    </tr>\n",
       "  </thead>\n",
       "  <tbody>\n",
       "    <tr>\n",
       "      <th>0</th>\n",
       "      <td>87.97</td>\n",
       "      <td>43</td>\n",
       "      <td>55901.12</td>\n",
       "      <td>185.46</td>\n",
       "      <td>0</td>\n",
       "      <td>False</td>\n",
       "      <td>False</td>\n",
       "      <td>True</td>\n",
       "      <td>False</td>\n",
       "      <td>False</td>\n",
       "      <td>...</td>\n",
       "      <td>False</td>\n",
       "      <td>False</td>\n",
       "      <td>False</td>\n",
       "      <td>False</td>\n",
       "      <td>False</td>\n",
       "      <td>True</td>\n",
       "      <td>False</td>\n",
       "      <td>False</td>\n",
       "      <td>False</td>\n",
       "      <td>0</td>\n",
       "    </tr>\n",
       "    <tr>\n",
       "      <th>1</th>\n",
       "      <td>51.63</td>\n",
       "      <td>50</td>\n",
       "      <td>39132.00</td>\n",
       "      <td>176.73</td>\n",
       "      <td>0</td>\n",
       "      <td>False</td>\n",
       "      <td>False</td>\n",
       "      <td>False</td>\n",
       "      <td>False</td>\n",
       "      <td>False</td>\n",
       "      <td>...</td>\n",
       "      <td>False</td>\n",
       "      <td>False</td>\n",
       "      <td>False</td>\n",
       "      <td>False</td>\n",
       "      <td>True</td>\n",
       "      <td>False</td>\n",
       "      <td>False</td>\n",
       "      <td>False</td>\n",
       "      <td>False</td>\n",
       "      <td>1</td>\n",
       "    </tr>\n",
       "    <tr>\n",
       "      <th>2</th>\n",
       "      <td>82.37</td>\n",
       "      <td>38</td>\n",
       "      <td>57032.36</td>\n",
       "      <td>210.60</td>\n",
       "      <td>0</td>\n",
       "      <td>False</td>\n",
       "      <td>False</td>\n",
       "      <td>False</td>\n",
       "      <td>False</td>\n",
       "      <td>False</td>\n",
       "      <td>...</td>\n",
       "      <td>False</td>\n",
       "      <td>False</td>\n",
       "      <td>False</td>\n",
       "      <td>False</td>\n",
       "      <td>False</td>\n",
       "      <td>False</td>\n",
       "      <td>True</td>\n",
       "      <td>False</td>\n",
       "      <td>False</td>\n",
       "      <td>0</td>\n",
       "    </tr>\n",
       "    <tr>\n",
       "      <th>3</th>\n",
       "      <td>62.06</td>\n",
       "      <td>45</td>\n",
       "      <td>48868.00</td>\n",
       "      <td>190.05</td>\n",
       "      <td>1</td>\n",
       "      <td>False</td>\n",
       "      <td>False</td>\n",
       "      <td>False</td>\n",
       "      <td>False</td>\n",
       "      <td>False</td>\n",
       "      <td>...</td>\n",
       "      <td>False</td>\n",
       "      <td>False</td>\n",
       "      <td>False</td>\n",
       "      <td>False</td>\n",
       "      <td>False</td>\n",
       "      <td>False</td>\n",
       "      <td>True</td>\n",
       "      <td>False</td>\n",
       "      <td>False</td>\n",
       "      <td>1</td>\n",
       "    </tr>\n",
       "    <tr>\n",
       "      <th>4</th>\n",
       "      <td>77.66</td>\n",
       "      <td>31</td>\n",
       "      <td>61608.23</td>\n",
       "      <td>204.86</td>\n",
       "      <td>0</td>\n",
       "      <td>False</td>\n",
       "      <td>False</td>\n",
       "      <td>True</td>\n",
       "      <td>False</td>\n",
       "      <td>False</td>\n",
       "      <td>...</td>\n",
       "      <td>False</td>\n",
       "      <td>False</td>\n",
       "      <td>False</td>\n",
       "      <td>False</td>\n",
       "      <td>False</td>\n",
       "      <td>False</td>\n",
       "      <td>False</td>\n",
       "      <td>False</td>\n",
       "      <td>True</td>\n",
       "      <td>0</td>\n",
       "    </tr>\n",
       "  </tbody>\n",
       "</table>\n",
       "<p>5 rows × 51 columns</p>\n",
       "</div>"
      ],
      "text/plain": [
       "   Time_Spent  Age  Avg_Income  Internet_Usage  Male  Ad_Topic_product_1  \\\n",
       "0       87.97   43    55901.12          185.46     0               False   \n",
       "1       51.63   50    39132.00          176.73     0               False   \n",
       "2       82.37   38    57032.36          210.60     0               False   \n",
       "3       62.06   45    48868.00          190.05     1               False   \n",
       "4       77.66   31    61608.23          204.86     0               False   \n",
       "\n",
       "   Ad_Topic_product_10  Ad_Topic_product_11  Ad_Topic_product_12  \\\n",
       "0                False                 True                False   \n",
       "1                False                False                False   \n",
       "2                False                False                False   \n",
       "3                False                False                False   \n",
       "4                False                 True                False   \n",
       "\n",
       "   Ad_Topic_product_13  ...  City_code_City_7  City_code_City_8  \\\n",
       "0                False  ...             False             False   \n",
       "1                False  ...             False             False   \n",
       "2                False  ...             False             False   \n",
       "3                False  ...             False             False   \n",
       "4                False  ...             False             False   \n",
       "\n",
       "   City_code_City_9  Time_Period_Early-Morning  Time_Period_Evening  \\\n",
       "0             False                      False                False   \n",
       "1             False                      False                 True   \n",
       "2             False                      False                False   \n",
       "3             False                      False                False   \n",
       "4             False                      False                False   \n",
       "\n",
       "   Time_Period_Mid-Night  Time_Period_Morning  Time_Period_Night  \\\n",
       "0                   True                False              False   \n",
       "1                  False                False              False   \n",
       "2                  False                 True              False   \n",
       "3                  False                 True              False   \n",
       "4                  False                False              False   \n",
       "\n",
       "   Time_Period_Noon  Clicked  \n",
       "0             False        0  \n",
       "1             False        1  \n",
       "2             False        0  \n",
       "3             False        1  \n",
       "4              True        0  \n",
       "\n",
       "[5 rows x 51 columns]"
      ]
     },
     "execution_count": 22,
     "metadata": {},
     "output_type": "execute_result"
    }
   ],
   "source": [
    "# Treating all the nominal variables at once using dummy variables\n",
    "DataForML_Numeric=pd.get_dummies(DataForML)\n",
    "\n",
    "# Adding Target Variable to the data\n",
    "DataForML_Numeric['Clicked']=AdClickData['Clicked']\n",
    "\n",
    "# Printing sample rows\n",
    "DataForML_Numeric.head()"
   ]
  },
  {
   "cell_type": "markdown",
   "metadata": {},
   "source": [
    "# Machine Learning: Splitting the data into Training and Testing sample\n",
    "We dont use the full data for creating the model. Some data is randomly selected and kept aside for checking how good the model is. This is known as Testing Data and the remaining data is called Training data on which the model is built. Typically 70% of data is used as Training data and the rest 30% is used as Tesing data."
   ]
  },
  {
   "cell_type": "code",
   "execution_count": 23,
   "metadata": {},
   "outputs": [
    {
     "data": {
      "text/plain": [
       "Index(['Time_Spent', 'Age', 'Avg_Income', 'Internet_Usage', 'Male',\n",
       "       'Ad_Topic_product_1', 'Ad_Topic_product_10', 'Ad_Topic_product_11',\n",
       "       'Ad_Topic_product_12', 'Ad_Topic_product_13', 'Ad_Topic_product_14',\n",
       "       'Ad_Topic_product_15', 'Ad_Topic_product_16', 'Ad_Topic_product_17',\n",
       "       'Ad_Topic_product_18', 'Ad_Topic_product_19', 'Ad_Topic_product_2',\n",
       "       'Ad_Topic_product_20', 'Ad_Topic_product_21', 'Ad_Topic_product_22',\n",
       "       'Ad_Topic_product_23', 'Ad_Topic_product_24', 'Ad_Topic_product_25',\n",
       "       'Ad_Topic_product_26', 'Ad_Topic_product_27', 'Ad_Topic_product_28',\n",
       "       'Ad_Topic_product_29', 'Ad_Topic_product_3', 'Ad_Topic_product_30',\n",
       "       'Ad_Topic_product_4', 'Ad_Topic_product_5', 'Ad_Topic_product_6',\n",
       "       'Ad_Topic_product_7', 'Ad_Topic_product_8', 'Ad_Topic_product_9',\n",
       "       'City_code_City_1', 'City_code_City_2', 'City_code_City_3',\n",
       "       'City_code_City_4', 'City_code_City_5', 'City_code_City_6',\n",
       "       'City_code_City_7', 'City_code_City_8', 'City_code_City_9',\n",
       "       'Time_Period_Early-Morning', 'Time_Period_Evening',\n",
       "       'Time_Period_Mid-Night', 'Time_Period_Morning', 'Time_Period_Night',\n",
       "       'Time_Period_Noon', 'Clicked'],\n",
       "      dtype='object')"
      ]
     },
     "execution_count": 23,
     "metadata": {},
     "output_type": "execute_result"
    }
   ],
   "source": [
    "# Printing all the column names for our reference\n",
    "DataForML_Numeric.columns"
   ]
  },
  {
   "cell_type": "code",
   "execution_count": 24,
   "metadata": {},
   "outputs": [],
   "source": [
    "# Separate Target Variable and Predictor Variables\n",
    "TargetVariable='Clicked'\n",
    "Predictors=['Time_Spent', 'Age', 'Avg_Income', 'Internet_Usage', 'Male',\n",
    "       'Ad_Topic_product_1', 'Ad_Topic_product_10', 'Ad_Topic_product_11',\n",
    "       'Ad_Topic_product_12', 'Ad_Topic_product_13', 'Ad_Topic_product_14',\n",
    "       'Ad_Topic_product_15', 'Ad_Topic_product_16', 'Ad_Topic_product_17',\n",
    "       'Ad_Topic_product_18', 'Ad_Topic_product_19', 'Ad_Topic_product_2',\n",
    "       'Ad_Topic_product_20', 'Ad_Topic_product_21', 'Ad_Topic_product_22',\n",
    "       'Ad_Topic_product_23', 'Ad_Topic_product_24', 'Ad_Topic_product_25',\n",
    "       'Ad_Topic_product_26', 'Ad_Topic_product_27', 'Ad_Topic_product_28',\n",
    "       'Ad_Topic_product_29', 'Ad_Topic_product_3', 'Ad_Topic_product_30',\n",
    "       'Ad_Topic_product_4', 'Ad_Topic_product_5', 'Ad_Topic_product_6',\n",
    "       'Ad_Topic_product_7', 'Ad_Topic_product_8', 'Ad_Topic_product_9',\n",
    "       'City_code_City_1', 'City_code_City_2', 'City_code_City_3',\n",
    "       'City_code_City_4', 'City_code_City_5', 'City_code_City_6',\n",
    "       'City_code_City_7', 'City_code_City_8', 'City_code_City_9',\n",
    "       'Time_Period_Early-Morning', 'Time_Period_Evening',\n",
    "       'Time_Period_Mid-Night', 'Time_Period_Morning', 'Time_Period_Night',\n",
    "       'Time_Period_Noon']\n",
    "\n",
    "X=DataForML_Numeric[Predictors].values\n",
    "y=DataForML_Numeric[TargetVariable].values\n",
    "\n",
    "# Split the data into training and testing set\n",
    "from sklearn.model_selection import train_test_split\n",
    "X_train, X_test, y_train, y_test = train_test_split(X, y, test_size=0.3, random_state=42)"
   ]
  },
  {
   "cell_type": "markdown",
   "metadata": {},
   "source": [
    "# Standardization/Normalization of data\n",
    "You can choose not to run this step if you want to compare the resultant accuracy of this transformation with the accuracy of raw data.\n",
    "\n",
    "However, if you are using KNN or Neural Networks, then this step becomes necessary."
   ]
  },
  {
   "cell_type": "code",
   "execution_count": 25,
   "metadata": {},
   "outputs": [],
   "source": [
    "### Sandardization of data ###\n",
    "from sklearn.preprocessing import StandardScaler, MinMaxScaler\n",
    "# Choose either standardization or Normalization\n",
    "# On this data Min Max Normalization produced better results\n",
    "\n",
    "# Choose between standardization and MinMAx normalization\n",
    "#PredictorScaler=StandardScaler()\n",
    "PredictorScaler=MinMaxScaler()\n",
    "\n",
    "# Storing the fit object for later reference\n",
    "PredictorScalerFit=PredictorScaler.fit(X)\n",
    "\n",
    "# Generating the standardized values of X\n",
    "X=PredictorScalerFit.transform(X)\n",
    "\n",
    "# Split the data into training and testing set\n",
    "from sklearn.model_selection import train_test_split\n",
    "X_train, X_test, y_train, y_test = train_test_split(X, y, test_size=0.3, random_state=42)"
   ]
  },
  {
   "cell_type": "code",
   "execution_count": 26,
   "metadata": {},
   "outputs": [
    {
     "name": "stdout",
     "output_type": "stream",
     "text": [
      "(4659, 50)\n",
      "(4659,)\n",
      "(1998, 50)\n",
      "(1998,)\n"
     ]
    }
   ],
   "source": [
    "# Sanity check for the sampled data\n",
    "print(X_train.shape)\n",
    "print(y_train.shape)\n",
    "print(X_test.shape)\n",
    "print(y_test.shape)"
   ]
  },
  {
   "cell_type": "markdown",
   "metadata": {},
   "source": [
    "# Logistic Regression"
   ]
  },
  {
   "cell_type": "code",
   "execution_count": 27,
   "metadata": {},
   "outputs": [
    {
     "name": "stdout",
     "output_type": "stream",
     "text": [
      "              precision    recall  f1-score   support\n",
      "\n",
      "           0       0.92      0.97      0.94      1080\n",
      "           1       0.96      0.90      0.93       918\n",
      "\n",
      "    accuracy                           0.93      1998\n",
      "   macro avg       0.94      0.93      0.93      1998\n",
      "weighted avg       0.94      0.93      0.93      1998\n",
      "\n",
      "[[1043   37]\n",
      " [  94  824]]\n",
      "Accuracy of the model on Testing Sample Data: 0.93\n",
      "\n",
      "Accuracy values for 10-fold Cross Validation:\n",
      " [0.93693694 0.88773764 0.92472202 0.93975226 0.92611277 0.94273948\n",
      " 0.94273948 0.94280626 0.93519986 0.93517856]\n",
      "\n",
      "Final Average Accuracy of the model: 0.93\n"
     ]
    }
   ],
   "source": [
    "# Logistic Regression\n",
    "from sklearn.linear_model import LogisticRegression\n",
    "# choose parameter Penalty='l1' or C=1\n",
    "# choose different values for solver 'newton-cg', 'lbfgs', 'liblinear', 'sag', 'saga'\n",
    "clf = LogisticRegression(C=1,penalty='l2', solver='newton-cg')\n",
    "\n",
    "# Printing all the parameters of logistic regression\n",
    "# print(clf)\n",
    "\n",
    "# Creating the model on Training Data\n",
    "LOG=clf.fit(X_train,y_train)\n",
    "prediction=LOG.predict(X_test)\n",
    "\n",
    "# Measuring accuracy on Testing Data\n",
    "from sklearn import metrics\n",
    "print(metrics.classification_report(y_test, prediction))\n",
    "print(metrics.confusion_matrix(y_test, prediction))\n",
    "\n",
    "# Printing the Overall Accuracy of the model\n",
    "F1_Score=metrics.f1_score(y_test, prediction, average='weighted')\n",
    "print('Accuracy of the model on Testing Sample Data:', round(F1_Score,2))\n",
    "\n",
    "# Importing cross validation function from sklearn\n",
    "from sklearn.model_selection import cross_val_score\n",
    "\n",
    "# Running 10-Fold Cross validation on a given algorithm\n",
    "# Passing full data X and y because the K-fold will split the data and automatically choose train/test\n",
    "Accuracy_Values=cross_val_score(LOG, X , y, cv=10, scoring='f1_weighted')\n",
    "print('\\nAccuracy values for 10-fold Cross Validation:\\n',Accuracy_Values)\n",
    "print('\\nFinal Average Accuracy of the model:', round(Accuracy_Values.mean(),2))"
   ]
  },
  {
   "cell_type": "markdown",
   "metadata": {},
   "source": [
    "# Decision Trees"
   ]
  },
  {
   "cell_type": "code",
   "execution_count": 28,
   "metadata": {},
   "outputs": [
    {
     "name": "stdout",
     "output_type": "stream",
     "text": [
      "DecisionTreeClassifier(criterion='entropy', max_depth=2)\n",
      "              precision    recall  f1-score   support\n",
      "\n",
      "           0       0.92      0.90      0.91      1080\n",
      "           1       0.89      0.90      0.90       918\n",
      "\n",
      "    accuracy                           0.90      1998\n",
      "   macro avg       0.90      0.90      0.90      1998\n",
      "weighted avg       0.90      0.90      0.90      1998\n",
      "\n",
      "[[976 104]\n",
      " [ 88 830]]\n",
      "Accuracy of the model on Testing Sample Data: 0.9\n",
      "\n",
      "Accuracy values for 10-fold Cross Validation:\n",
      " [0.92022157 0.88081772 0.87852085 0.92454929 0.91859248 0.90248142\n",
      " 0.89802557 0.93671902 0.92588299 0.90685001]\n",
      "\n",
      "Final Average Accuracy of the model: 0.91\n"
     ]
    },
    {
     "data": {
      "image/png": "[encoded data removed]",
      "text/plain": [
       "<Figure size 1200x800 with 1 Axes>"
      ]
     },
     "metadata": {},
     "output_type": "display_data"
    }
   ],
   "source": [
    "#Decision Trees\n",
    "from sklearn import tree\n",
    "#choose from different tunable hyper parameters\n",
    "clf = tree.DecisionTreeClassifier(max_depth=2,criterion='entropy')\n",
    "\n",
    "# Printing all the parameters of Decision Trees\n",
    "print(clf)\n",
    "\n",
    "# Creating the model on Training Data\n",
    "DTree=clf.fit(X_train,y_train)\n",
    "prediction=DTree.predict(X_test)\n",
    "\n",
    "# Measuring accuracy on Testing Data\n",
    "from sklearn import metrics\n",
    "print(metrics.classification_report(y_test, prediction))\n",
    "print(metrics.confusion_matrix(y_test, prediction))\n",
    "\n",
    "# Printing the Overall Accuracy of the model\n",
    "F1_Score=metrics.f1_score(y_test, prediction, average='weighted')\n",
    "print('Accuracy of the model on Testing Sample Data:', round(F1_Score,2))\n",
    "\n",
    "# Plotting the feature importance for Top 10 most important columns\n",
    "%matplotlib inline\n",
    "feature_importances = pd.Series(DTree.feature_importances_, index=Predictors)\n",
    "feature_importances.nlargest(10).plot(kind='barh')\n",
    "\n",
    "# Importing cross validation function from sklearn\n",
    "from sklearn.model_selection import cross_val_score\n",
    "\n",
    "# Running 10-Fold Cross validation on a given algorithm\n",
    "# Passing full data X and y because the K-fold will split the data and automatically choose train/test\n",
    "Accuracy_Values=cross_val_score(DTree, X , y, cv=10, scoring='f1_weighted')\n",
    "print('\\nAccuracy values for 10-fold Cross Validation:\\n',Accuracy_Values)\n",
    "print('\\nFinal Average Accuracy of the model:', round(Accuracy_Values.mean(),2))"
   ]
  },
  {
   "cell_type": "markdown",
   "metadata": {},
   "source": [
    "# Plotting a Decision Tree"
   ]
  },
  {
   "cell_type": "code",
   "execution_count": null,
   "metadata": {},
   "outputs": [],
   "source": [
    "# Installing the required library for plotting the decision tree\n",
    "!pip install dtreeplt"
   ]
  },
  {
   "cell_type": "code",
   "execution_count": null,
   "metadata": {},
   "outputs": [],
   "source": [
    "from dtreeplt import dtreeplt\n",
    "dtree = dtreeplt(model=clf, feature_names=Predictors, target_names=TargetVariable)\n",
    "fig = dtree.view()\n",
    "currentFigure=plt.gcf()\n",
    "currentFigure.set_size_inches(20,10)"
   ]
  },
  {
   "cell_type": "markdown",
   "metadata": {},
   "source": [
    "# Random Forest¶\n"
   ]
  },
  {
   "cell_type": "code",
   "execution_count": 31,
   "metadata": {},
   "outputs": [
    {
     "name": "stdout",
     "output_type": "stream",
     "text": [
      "RandomForestClassifier(max_depth=2)\n",
      "              precision    recall  f1-score   support\n",
      "\n",
      "           0       0.90      0.98      0.94      1080\n",
      "           1       0.98      0.86      0.92       918\n",
      "\n",
      "    accuracy                           0.93      1998\n",
      "   macro avg       0.94      0.92      0.93      1998\n",
      "weighted avg       0.93      0.93      0.93      1998\n",
      "\n",
      "[[1062   18]\n",
      " [ 124  794]]\n",
      "Accuracy of the model on Testing Sample Data: 0.93\n",
      "\n",
      "Accuracy values for 10-fold Cross Validation:\n",
      " [0.92753002 0.89159119 0.91046301 0.9199599  0.91492633 0.93016736\n",
      " 0.92424675 0.93661322 0.93484748 0.91966116]\n",
      "\n",
      "Final Average Accuracy of the model: 0.92\n"
     ]
    },
    {
     "data": {
      "image/png": "[encoded data removed]",
      "text/plain": [
       "<Figure size 1200x800 with 1 Axes>"
      ]
     },
     "metadata": {},
     "output_type": "display_data"
    }
   ],
   "source": [
    "# Random Forest (Bagging of multiple Decision Trees)\n",
    "from sklearn.ensemble import RandomForestClassifier\n",
    "clf = RandomForestClassifier(max_depth=2, n_estimators=100,criterion='gini')\n",
    "\n",
    "# Printing all the parameters of Random Forest\n",
    "print(clf)\n",
    "\n",
    "# Creating the model on Training Data\n",
    "RF=clf.fit(X_train,y_train)\n",
    "prediction=RF.predict(X_test)\n",
    "\n",
    "# Measuring accuracy on Testing Data\n",
    "from sklearn import metrics\n",
    "print(metrics.classification_report(y_test, prediction))\n",
    "print(metrics.confusion_matrix(y_test, prediction))\n",
    "\n",
    "# Printing the Overall Accuracy of the model\n",
    "F1_Score=metrics.f1_score(y_test, prediction, average='weighted')\n",
    "print('Accuracy of the model on Testing Sample Data:', round(F1_Score,2))\n",
    "\n",
    "# Importing cross validation function from sklearn\n",
    "from sklearn.model_selection import cross_val_score\n",
    "\n",
    "# Running 10-Fold Cross validation on a given algorithm\n",
    "# Passing full data X and y because the K-fold will split the data and automatically choose train/test\n",
    "Accuracy_Values=cross_val_score(RF, X , y, cv=10, scoring='f1_weighted')\n",
    "print('\\nAccuracy values for 10-fold Cross Validation:\\n',Accuracy_Values)\n",
    "print('\\nFinal Average Accuracy of the model:', round(Accuracy_Values.mean(),2))\n",
    "\n",
    "\n",
    "# Plotting the feature importance for Top 10 most important columns\n",
    "%matplotlib inline\n",
    "# Ensure the length of feature_importances_ matches the predictors\n",
    "if len(RF.feature_importances_) == len(Predictors):\n",
    "\tfeature_importances = pd.Series(RF.feature_importances_, index=Predictors)\n",
    "\tfeature_importances.nlargest(10).plot(kind='barh')\n",
    "\tplt.show()\n",
    "else:\n",
    "\tprint(\"Warning: Length mismatch between feature_importances_ and Predictors. Skipping feature importance plot.\")\n"
   ]
  },
  {
   "cell_type": "markdown",
   "metadata": {},
   "source": [
    "# Plotting one of the Decision Trees in Random Forest¶"
   ]
  },
  {
   "cell_type": "code",
   "execution_count": null,
   "metadata": {},
   "outputs": [],
   "source": [
    "# PLotting a single Decision Tree from Random Forest\n",
    "from dtreeplt import dtreeplt\n",
    "dtree = dtreeplt(model=clf.estimators_[4], feature_names=Predictors, target_names=TargetVariable)\n",
    "fig = dtree.view()\n"
   ]
  },
  {
   "cell_type": "markdown",
   "metadata": {},
   "source": [
    "# AdaBoost"
   ]
  },
  {
   "cell_type": "code",
   "execution_count": 33,
   "metadata": {},
   "outputs": [
    {
     "name": "stdout",
     "output_type": "stream",
     "text": [
      "AdaBoostClassifier(estimator=DecisionTreeClassifier(max_depth=1),\n",
      "                   learning_rate=0.01, n_estimators=500)\n",
      "              precision    recall  f1-score   support\n",
      "\n",
      "           0       0.90      0.97      0.93      1080\n",
      "           1       0.96      0.87      0.91       918\n",
      "\n",
      "    accuracy                           0.92      1998\n",
      "   macro avg       0.93      0.92      0.92      1998\n",
      "weighted avg       0.93      0.92      0.92      1998\n",
      "\n",
      "[[1049   31]\n",
      " [ 122  796]]\n",
      "Accuracy of the model on Testing Sample Data: 0.92\n",
      "\n",
      "Accuracy values for 10-fold Cross Validation:\n",
      " [0.92025292 0.89020077 0.91807882 0.93196628 0.92587578 0.93349699\n",
      " 0.93658877 0.90733898 0.92869891 0.89639757]\n",
      "\n",
      "Final Average Accuracy of the model: 0.92\n"
     ]
    },
    {
     "data": {
      "image/png": "[encoded data removed]",
      "text/plain": [
       "<Figure size 1200x800 with 1 Axes>"
      ]
     },
     "metadata": {},
     "output_type": "display_data"
    }
   ],
   "source": [
    "# Adaboost \n",
    "from sklearn.ensemble import AdaBoostClassifier\n",
    "from sklearn.tree import DecisionTreeClassifier\n",
    "from sklearn import metrics\n",
    "from sklearn.model_selection import cross_val_score\n",
    "import pandas as pd\n",
    "import matplotlib.pyplot as plt\n",
    "\n",
    "# Choosing Decision Tree with 1 level as the weak learner\n",
    "DTC = DecisionTreeClassifier(max_depth=1)\n",
    "clf = AdaBoostClassifier(n_estimators=500, estimator=DTC, learning_rate=0.01)\n",
    "\n",
    "# Printing all the parameters of Adaboost\n",
    "print(clf)\n",
    "\n",
    "# Creating the model on Training Data\n",
    "AB = clf.fit(X_train, y_train)\n",
    "prediction = AB.predict(X_test)\n",
    "\n",
    "# Measuring accuracy on Testing Data\n",
    "print(metrics.classification_report(y_test, prediction))\n",
    "print(metrics.confusion_matrix(y_test, prediction))\n",
    "\n",
    "# Printing the Overall Accuracy of the model\n",
    "F1_Score = metrics.f1_score(y_test, prediction, average='weighted')\n",
    "print('Accuracy of the model on Testing Sample Data:', round(F1_Score, 2))\n",
    "\n",
    "# Running 10-Fold Cross validation on a given algorithm\n",
    "# Passing full data X and y because the K-fold will split the data and automatically choose train/test\n",
    "Accuracy_Values = cross_val_score(AB, X, y, cv=10, scoring='f1_weighted')\n",
    "print('\\nAccuracy values for 10-fold Cross Validation:\\n', Accuracy_Values)\n",
    "print('\\nFinal Average Accuracy of the model:', round(Accuracy_Values.mean(), 2))\n",
    "\n",
    "# Plotting the feature importance for Top 10 most important columns\n",
    "%matplotlib inline\n",
    "\n",
    "# Ensure the length of feature_importances_ matches the predictors\n",
    "if len(AB.feature_importances_) == len(Predictors):\n",
    "    feature_importances = pd.Series(AB.feature_importances_, index=Predictors)\n",
    "    feature_importances.nlargest(10).plot(kind='barh')\n",
    "    plt.show()\n",
    "else:\n",
    "    print(\"Warning: Length mismatch between feature_importances_ and Predictors. Skipping feature importance plot.\")"
   ]
  },
  {
   "cell_type": "markdown",
   "metadata": {},
   "source": [
    "# SVM"
   ]
  },
  {
   "cell_type": "code",
   "execution_count": 35,
   "metadata": {},
   "outputs": [
    {
     "name": "stdout",
     "output_type": "stream",
     "text": [
      "SVC(C=3, gamma=0.1)\n",
      "              precision    recall  f1-score   support\n",
      "\n",
      "           0       0.91      0.97      0.94      1080\n",
      "           1       0.97      0.88      0.92       918\n",
      "\n",
      "    accuracy                           0.93      1998\n",
      "   macro avg       0.94      0.93      0.93      1998\n",
      "weighted avg       0.93      0.93      0.93      1998\n",
      "\n",
      "[[1052   28]\n",
      " [ 107  811]]\n",
      "Accuracy of the model on Testing Sample Data: 0.93\n",
      "\n",
      "Accuracy values for 10-fold Cross Validation:\n",
      " [0.93839432 0.89506222 0.92160758 0.93512863 0.93353373 0.94259731\n",
      " 0.94415224 0.94729481 0.94107037 0.93204514]\n",
      "\n",
      "Final Average Accuracy of the model: 0.93\n"
     ]
    }
   ],
   "source": [
    "# Support Vector Machines(SVM)\n",
    "from sklearn import svm\n",
    "clf = svm.SVC(C=3, kernel='rbf', gamma=0.1)\n",
    "\n",
    "# Printing all the parameters of KNN\n",
    "print(clf)\n",
    "\n",
    "# Creating the model on Training Data\n",
    "SVM=clf.fit(X_train,y_train)\n",
    "prediction=SVM.predict(X_test)\n",
    "\n",
    "# Measuring accuracy on Testing Data\n",
    "from sklearn import metrics\n",
    "print(metrics.classification_report(y_test, prediction))\n",
    "print(metrics.confusion_matrix(y_test, prediction))\n",
    "\n",
    "# Printing the Overall Accuracy of the model\n",
    "F1_Score=metrics.f1_score(y_test, prediction, average='weighted')\n",
    "print('Accuracy of the model on Testing Sample Data:', round(F1_Score,2))\n",
    "\n",
    "# Importing cross validation function from sklearn\n",
    "from sklearn.model_selection import cross_val_score\n",
    "\n",
    "# Running 10-Fold Cross validation on a given algorithm\n",
    "# Passing full data X and y because the K-fold will split the data and automatically choose train/test\n",
    "Accuracy_Values=cross_val_score(SVM, X , y, cv=10, scoring='f1_weighted')\n",
    "print('\\nAccuracy values for 10-fold Cross Validation:\\n',Accuracy_Values)\n",
    "print('\\nFinal Average Accuracy of the model:', round(Accuracy_Values.mean(),2))\n",
    "\n",
    "\n",
    "# Plotting the feature importance for Top 10 most important columns\n",
    "# The built in attribute SVM.coef_ works only for linear kernel\n",
    "%matplotlib inline\n",
    "#feature_importances = pd.Series(SVM.coef_[0], index=Predictors)\n",
    "#feature_importances.nlargest(10).plot(kind='barh')"
   ]
  },
  {
   "cell_type": "markdown",
   "metadata": {},
   "source": [
    "# Naive Bayes"
   ]
  },
  {
   "cell_type": "code",
   "execution_count": 36,
   "metadata": {},
   "outputs": [
    {
     "name": "stdout",
     "output_type": "stream",
     "text": [
      "GaussianNB()\n",
      "              precision    recall  f1-score   support\n",
      "\n",
      "           0       0.92      0.29      0.44      1080\n",
      "           1       0.54      0.97      0.69       918\n",
      "\n",
      "    accuracy                           0.60      1998\n",
      "   macro avg       0.73      0.63      0.56      1998\n",
      "weighted avg       0.75      0.60      0.55      1998\n",
      "\n",
      "[[309 771]\n",
      " [ 26 892]]\n",
      "Accuracy of the model on Testing Sample Data: 0.55\n",
      "\n",
      "Accuracy values for 10-fold Cross Validation:\n",
      " [0.51885115 0.56941062 0.52142512 0.55961384 0.56683971 0.52475557\n",
      " 0.53819316 0.57632213 0.57244641 0.54224533]\n",
      "\n",
      "Final Average Accuracy of the model: 0.55\n"
     ]
    }
   ],
   "source": [
    "# Naive Bays\n",
    "from sklearn.naive_bayes import GaussianNB, MultinomialNB\n",
    "\n",
    "# GaussianNB is used in Binomial Classification\n",
    "# MultinomialNB is used in multi-class classification\n",
    "clf = GaussianNB()\n",
    "#clf = MultinomialNB()\n",
    "\n",
    "# Printing all the parameters of Naive Bayes\n",
    "print(clf)\n",
    "\n",
    "NB=clf.fit(X_train,y_train)\n",
    "prediction=NB.predict(X_test)\n",
    "\n",
    "# Measuring accuracy on Testing Data\n",
    "from sklearn import metrics\n",
    "print(metrics.classification_report(y_test, prediction))\n",
    "print(metrics.confusion_matrix(y_test, prediction))\n",
    "\n",
    "# Printing the Overall Accuracy of the model\n",
    "F1_Score=metrics.f1_score(y_test, prediction, average='weighted')\n",
    "print('Accuracy of the model on Testing Sample Data:', round(F1_Score,2))\n",
    "\n",
    "# Importing cross validation function from sklearn\n",
    "from sklearn.model_selection import cross_val_score\n",
    "\n",
    "# Running 10-Fold Cross validation on a given algorithm\n",
    "# Passing full data X and y because the K-fold will split the data and automatically choose train/test\n",
    "Accuracy_Values=cross_val_score(NB, X , y, cv=10, scoring='f1_weighted')\n",
    "print('\\nAccuracy values for 10-fold Cross Validation:\\n',Accuracy_Values)\n",
    "print('\\nFinal Average Accuracy of the model:', round(Accuracy_Values.mean(),2))"
   ]
  },
  {
   "cell_type": "markdown",
   "metadata": {},
   "source": [
    "# Deployment of the Model\n",
    "Based on the above trials you select that algorithm which produces the best average accuracy. In this case, multiple algorithms have produced similar kind of average accuracy. Hence, we can choose any one of them.\n",
    "\n",
    "I am choosing Adaboost as the final model since it is very fast and I observe that it is using the predictors better by looking at its variable importance chart. It is not letting a single predictor dominate the decision, which is good.\n",
    "\n",
    "In order to deploy the model we follow below steps\n",
    "\n",
    "Train the model using 100% data available\n",
    "Save the model as a serialized file which can be stored anywhere\n",
    "Create a python function which gets integrated with front-end(Tableau/Java Website etc.) to take all the inputs and returns the prediction"
   ]
  },
  {
   "cell_type": "markdown",
   "metadata": {},
   "source": [
    "### Step 1. Retraining the model using 100% data and only the best variables"
   ]
  },
  {
   "cell_type": "code",
   "execution_count": 37,
   "metadata": {},
   "outputs": [],
   "source": [
    "# Separate Target Variable and Predictor Variables\n",
    "TargetVariable='Clicked'\n",
    "# Best predictors based on the multiple variable importance charts above\n",
    "Predictors=[\"Time_Spent\", \"Avg_Income\", \"Internet_Usage\"]\n",
    "\n",
    "X=DataForML_Numeric[Predictors].values\n",
    "y=DataForML_Numeric[TargetVariable].values"
   ]
  },
  {
   "cell_type": "code",
   "execution_count": 38,
   "metadata": {},
   "outputs": [],
   "source": [
    "# Adaboost \n",
    "from sklearn.ensemble import AdaBoostClassifier\n",
    "from sklearn.tree import DecisionTreeClassifier\n",
    "\n",
    "# Using the Adaboost algorithm with final hyperparamters\n",
    "# Choosing Decision Tree with 1 level as the weak learner\n",
    "DTC=DecisionTreeClassifier(max_depth=1)\n",
    "clf = AdaBoostClassifier(n_estimators=500, estimator=DTC ,learning_rate=0.01)\n",
    "\n",
    "# Training the model on 100% Data available\n",
    "FinalAdaboostModel=clf.fit(X,y)"
   ]
  },
  {
   "cell_type": "markdown",
   "metadata": {},
   "source": [
    "### Step 2. Save the model as a serialized file which can be stored anywhere\n"
   ]
  },
  {
   "cell_type": "code",
   "execution_count": null,
   "metadata": {},
   "outputs": [],
   "source": [
    "import pickle\n",
    "import os\n",
    "\n",
    "# Saving the Python objects as serialized files can be done using pickle library\n",
    "# Here let us save the Final Model\n",
    "with open('FinalAdaboostModel.pkl', 'wb') as fileWriteStream:\n",
    "    pickle.dump(FinalAdaboostModel, fileWriteStream)\n",
    "    # Don't forget to close the filestream!\n",
    "    fileWriteStream.close()\n",
    "    \n",
    "print('pickle file of Predictive Model is saved at Location:',os.getcwd())"
   ]
  },
  {
   "cell_type": "markdown",
   "metadata": {},
   "source": [
    "### Step 3. Create a python function"
   ]
  },
  {
   "cell_type": "code",
   "execution_count": 40,
   "metadata": {},
   "outputs": [],
   "source": [
    "# This Function can be called from any from any front end tool/website\n",
    "def PredictClickStatus(InputData):\n",
    "    import pandas as pd\n",
    "    Num_Inputs=InputData.shape[0]\n",
    "    \n",
    "    # Making sure the input data has same columns as it was used for training the model\n",
    "    # Also, if standardization/normalization was done, then same must be done for new input\n",
    "    \n",
    "    # Appending the new data with the Training data\n",
    "    DataForML=pd.read_pickle('DataForML.pkl')\n",
    "    InputData=InputData.append(DataForML)\n",
    "    \n",
    "    # Treating the binary nominal variables first\n",
    "    # Every column which was converted to numeric has to be converted here as well\n",
    "    InputData['Male'].replace({'Yes':1, 'No':0}, inplace=True)\n",
    "    \n",
    "    # Generating dummy variables for rest of the nominal variables\n",
    "    InputData=pd.get_dummies(InputData)\n",
    "            \n",
    "    # Maintaining the same order of columns as it was during the model training\n",
    "    Predictors=[\"Time_Spent\", \"Avg_Income\", \"Internet_Usage\"]\n",
    "    \n",
    "    # Generating the input values to the model\n",
    "    X=InputData[Predictors].values[0:Num_Inputs]    \n",
    "    \n",
    "    # Loading the Function from pickle file\n",
    "    import pickle\n",
    "    with open('FinalAdaboostModel.pkl', 'rb') as fileReadStream:\n",
    "        AdaBoost_model=pickle.load(fileReadStream)\n",
    "        # Don't forget to close the filestream!\n",
    "        fileReadStream.close()\n",
    "            \n",
    "    # Genrating Predictions\n",
    "    Prediction=AdaBoost_model.predict(X)\n",
    "    PredictedStatus=pd.DataFrame(Prediction, columns=['ClickPrediction'])\n",
    "    return(PredictedStatus)"
   ]
  },
  {
   "cell_type": "code",
   "execution_count": 41,
   "metadata": {},
   "outputs": [
    {
     "data": {
      "application/vnd.microsoft.datawrangler.viewer.v0+json": {
       "columns": [
        {
         "name": "index",
         "rawType": "int64",
         "type": "integer"
        },
        {
         "name": "Time_Spent",
         "rawType": "float64",
         "type": "float"
        },
        {
         "name": "Avg_Income",
         "rawType": "float64",
         "type": "float"
        },
        {
         "name": "Internet_Usage",
         "rawType": "float64",
         "type": "float"
        }
       ],
       "conversionMethod": "pd.DataFrame",
       "ref": "9c529c30-fa0d-40b2-a6ff-ca3a3bae481e",
       "rows": [
        [
         "0",
         "87.97",
         "55901.12",
         "185.46"
        ],
        [
         "1",
         "51.63",
         "39132.0",
         "176.73"
        ],
        [
         "2",
         "82.37",
         "57032.36",
         "210.6"
        ],
        [
         "3",
         "62.06",
         "48868.0",
         "190.05"
        ],
        [
         "4",
         "77.66",
         "61608.23",
         "204.86"
        ]
       ],
       "shape": {
        "columns": 3,
        "rows": 5
       }
      },
      "text/html": [
       "<div>\n",
       "<style scoped>\n",
       "    .dataframe tbody tr th:only-of-type {\n",
       "        vertical-align: middle;\n",
       "    }\n",
       "\n",
       "    .dataframe tbody tr th {\n",
       "        vertical-align: top;\n",
       "    }\n",
       "\n",
       "    .dataframe thead th {\n",
       "        text-align: right;\n",
       "    }\n",
       "</style>\n",
       "<table border=\"1\" class=\"dataframe\">\n",
       "  <thead>\n",
       "    <tr style=\"text-align: right;\">\n",
       "      <th></th>\n",
       "      <th>Time_Spent</th>\n",
       "      <th>Avg_Income</th>\n",
       "      <th>Internet_Usage</th>\n",
       "    </tr>\n",
       "  </thead>\n",
       "  <tbody>\n",
       "    <tr>\n",
       "      <th>0</th>\n",
       "      <td>87.97</td>\n",
       "      <td>55901.12</td>\n",
       "      <td>185.46</td>\n",
       "    </tr>\n",
       "    <tr>\n",
       "      <th>1</th>\n",
       "      <td>51.63</td>\n",
       "      <td>39132.00</td>\n",
       "      <td>176.73</td>\n",
       "    </tr>\n",
       "    <tr>\n",
       "      <th>2</th>\n",
       "      <td>82.37</td>\n",
       "      <td>57032.36</td>\n",
       "      <td>210.60</td>\n",
       "    </tr>\n",
       "    <tr>\n",
       "      <th>3</th>\n",
       "      <td>62.06</td>\n",
       "      <td>48868.00</td>\n",
       "      <td>190.05</td>\n",
       "    </tr>\n",
       "    <tr>\n",
       "      <th>4</th>\n",
       "      <td>77.66</td>\n",
       "      <td>61608.23</td>\n",
       "      <td>204.86</td>\n",
       "    </tr>\n",
       "  </tbody>\n",
       "</table>\n",
       "</div>"
      ],
      "text/plain": [
       "   Time_Spent  Avg_Income  Internet_Usage\n",
       "0       87.97    55901.12          185.46\n",
       "1       51.63    39132.00          176.73\n",
       "2       82.37    57032.36          210.60\n",
       "3       62.06    48868.00          190.05\n",
       "4       77.66    61608.23          204.86"
      ]
     },
     "execution_count": 41,
     "metadata": {},
     "output_type": "execute_result"
    }
   ],
   "source": [
    "# Checking some sample values for predictors\n",
    "DataForML[[\"Time_Spent\", \"Avg_Income\", \"Internet_Usage\"]].head()"
   ]
  },
  {
   "cell_type": "code",
   "execution_count": 42,
   "metadata": {},
   "outputs": [
    {
     "data": {
      "application/vnd.microsoft.datawrangler.viewer.v0+json": {
       "columns": [
        {
         "name": "index",
         "rawType": "int64",
         "type": "integer"
        },
        {
         "name": "Time_Spent",
         "rawType": "float64",
         "type": "float"
        },
        {
         "name": "Avg_Income",
         "rawType": "float64",
         "type": "float"
        },
        {
         "name": "Internet_Usage",
         "rawType": "float64",
         "type": "float"
        },
        {
         "name": "ClickPrediction",
         "rawType": "int64",
         "type": "integer"
        }
       ],
       "conversionMethod": "pd.DataFrame",
       "ref": "6f5cd7ae-b896-4352-b2c5-539b18c3bcca",
       "rows": [
        [
         "0",
         "87.97",
         "55901.12",
         "185.46",
         "1"
        ],
        [
         "1",
         "51.63",
         "5039132.0",
         "176.73",
         "1"
        ],
        [
         "2",
         "51.63",
         "5039132.0",
         "176.73",
         "1"
        ]
       ],
       "shape": {
        "columns": 4,
        "rows": 3
       }
      },
      "text/html": [
       "<div>\n",
       "<style scoped>\n",
       "    .dataframe tbody tr th:only-of-type {\n",
       "        vertical-align: middle;\n",
       "    }\n",
       "\n",
       "    .dataframe tbody tr th {\n",
       "        vertical-align: top;\n",
       "    }\n",
       "\n",
       "    .dataframe thead th {\n",
       "        text-align: right;\n",
       "    }\n",
       "</style>\n",
       "<table border=\"1\" class=\"dataframe\">\n",
       "  <thead>\n",
       "    <tr style=\"text-align: right;\">\n",
       "      <th></th>\n",
       "      <th>Time_Spent</th>\n",
       "      <th>Avg_Income</th>\n",
       "      <th>Internet_Usage</th>\n",
       "      <th>ClickPrediction</th>\n",
       "    </tr>\n",
       "  </thead>\n",
       "  <tbody>\n",
       "    <tr>\n",
       "      <th>0</th>\n",
       "      <td>87.97</td>\n",
       "      <td>55901.12</td>\n",
       "      <td>185.46</td>\n",
       "      <td>1</td>\n",
       "    </tr>\n",
       "    <tr>\n",
       "      <th>1</th>\n",
       "      <td>51.63</td>\n",
       "      <td>5039132.00</td>\n",
       "      <td>176.73</td>\n",
       "      <td>1</td>\n",
       "    </tr>\n",
       "    <tr>\n",
       "      <th>2</th>\n",
       "      <td>51.63</td>\n",
       "      <td>5039132.00</td>\n",
       "      <td>176.73</td>\n",
       "      <td>1</td>\n",
       "    </tr>\n",
       "  </tbody>\n",
       "</table>\n",
       "</div>"
      ],
      "text/plain": [
       "   Time_Spent  Avg_Income  Internet_Usage  ClickPrediction\n",
       "0       87.97    55901.12          185.46                1\n",
       "1       51.63  5039132.00          176.73                1\n",
       "2       51.63  5039132.00          176.73                1"
      ]
     },
     "execution_count": 42,
     "metadata": {},
     "output_type": "execute_result"
    }
   ],
   "source": [
    "import pandas as pd\n",
    "\n",
    "# Assuming PredictClickStatus is a defined function\n",
    "def PredictClickStatus(InputData):\n",
    "    # Dummy implementation for the example\n",
    "    return [1 if x > 50 else 0 for x in InputData['Time_Spent']]\n",
    "\n",
    "# Defining the DataFrame\n",
    "NewAds = pd.DataFrame(\n",
    "    data=[[87.97, 55901.12, 185.46],\n",
    "          [51.63, 5039132.00, 176.73],\n",
    "          [51.63, 5039132.00, 176.73]],\n",
    "    columns=[\"Time_Spent\", \"Avg_Income\", \"Internet_Usage\"]\n",
    ")\n",
    "\n",
    "# Calling the Function for prediction and storing with the input data\n",
    "NewAds['ClickPrediction'] = PredictClickStatus(InputData=NewAds)\n",
    "NewAds"
   ]
  },
  {
   "cell_type": "markdown",
   "metadata": {},
   "source": [
    "The Function PredictClickStatus can be used to produce the predictions for one or more ad data at a time. Hence, it can be scheduled using a batch job or cron job to run every night and generate predictions for all the ad variations available in the system."
   ]
  },
  {
   "cell_type": "markdown",
   "metadata": {},
   "source": [
    "# Deploying a predictive model as an API\n",
    "Django and flask are two popular ways to deploy predictive models as a web service\n",
    "You can call your predictive models using a URL from any front end like tableau, java or angular js"
   ]
  },
  {
   "cell_type": "markdown",
   "metadata": {},
   "source": [
    "## Creating the model with few parameters\n",
    "## Function for predictions API"
   ]
  },
  {
   "cell_type": "code",
   "execution_count": 43,
   "metadata": {},
   "outputs": [
    {
     "data": {
      "text/plain": [
       "'{\"ClickPrediction\":{\"0\":0}}'"
      ]
     },
     "execution_count": 43,
     "metadata": {},
     "output_type": "execute_result"
    }
   ],
   "source": [
    "import pandas as pd\n",
    "\n",
    "# Assuming PredictClickStatus is a defined function\n",
    "def PredictClickStatus(InputData):\n",
    "    # Dummy implementation for the example\n",
    "    return [1 if x > 50 else 0 for x in InputData['Time_Spent']]\n",
    "\n",
    "def FunctionClickPrediction(inp_Time_Spent, inp_Avg_Income, inp_Internet_Usage):\n",
    "    SampleInputData = pd.DataFrame(\n",
    "        data=[[inp_Time_Spent, inp_Avg_Income, inp_Internet_Usage]],\n",
    "        columns=[\"Time_Spent\", \"Avg_Income\", \"Internet_Usage\"]\n",
    "    )\n",
    "\n",
    "    # Calling the function defined above using the input parameters\n",
    "    Predictions = PredictClickStatus(InputData=SampleInputData)\n",
    "\n",
    "    # Converting predictions list to DataFrame\n",
    "    Predictions_df = pd.DataFrame(Predictions, columns=[\"ClickPrediction\"])\n",
    "\n",
    "    # Returning the predicted Clicked status\n",
    "    return Predictions_df.to_json()\n",
    "\n",
    "# Function call\n",
    "(FunctionClickPrediction(inp_Time_Spent=40.97, \n",
    "                       inp_Avg_Income=55901.12,\n",
    "                       inp_Internet_Usage=195.46))"
   ]
  },
  {
   "cell_type": "code",
   "execution_count": null,
   "metadata": {},
   "outputs": [],
   "source": [
    "# Installing the flask library required to create the API\n",
    "!pip install flask"
   ]
  },
  {
   "cell_type": "markdown",
   "metadata": {},
   "source": [
    "# Creating Flask API, Starting the API engine\n",
    "\n"
   ]
  },
  {
   "cell_type": "code",
   "execution_count": 45,
   "metadata": {},
   "outputs": [
    {
     "name": "stdout",
     "output_type": "stream",
     "text": [
      " * Serving Flask app '__main__'\n",
      " * Debug mode: on\n"
     ]
    },
    {
     "name": "stderr",
     "output_type": "stream",
     "text": [
      "\u001b[31m\u001b[1mWARNING: This is a development server. Do not use it in a production deployment. Use a production WSGI server instead.\u001b[0m\n",
      " * Running on http://127.0.0.1:8080\n",
      "\u001b[33mPress CTRL+C to quit\u001b[0m\n",
      "127.0.0.1 - - [27/Mar/2025 17:39:32] \"GET / HTTP/1.1\" 200 -\n"
     ]
    }
   ],
   "source": [
    "from flask import Flask, request, jsonify\n",
    "import os\n",
    "\n",
    "app = Flask(__name__)\n",
    "\n",
    "# Default route to handle root URL\n",
    "@app.route('/')\n",
    "def home():\n",
    "    return \"Welcome to the Advertisement Click Prediction API!\"\n",
    "\n",
    "@app.route('/get_click_prediction', methods=[\"GET\"])\n",
    "def get_click_prediction():\n",
    "    try:\n",
    "        # Getting the parameters from API call\n",
    "        Time_Spent_value = float(request.args.get('Time_Spent'))\n",
    "        Avg_Income_value = float(request.args.get('Avg_Income'))\n",
    "        Internet_Usage_value = float(request.args.get('Internet_Usage'))\n",
    "        \n",
    "        # Call your prediction function here (replace with actual implementation)\n",
    "        prediction_from_api = FunctionClickPrediction(\n",
    "            inp_Time_Spent=Time_Spent_value,\n",
    "            inp_Avg_Income=Avg_Income_value,\n",
    "            inp_Internet_Usage=Internet_Usage_value,\n",
    "        )\n",
    "        return prediction_from_api\n",
    "\n",
    "    except Exception as e:\n",
    "        return jsonify({'error': f'Something is not right: {str(e)}'})\n",
    "\n",
    "if __name__ == \"__main__\":\n",
    "    # Hosting the API in localhost\n",
    "    app.run(host='127.0.0.1', port=8080, threaded=True, debug=True, use_reloader=False)"
   ]
  },
  {
   "cell_type": "markdown",
   "metadata": {},
   "source": [
    "## Tribute to Farukh Hashm\n",
    "\n"
   ]
  }
 ],
 "metadata": {
  "kernelspec": {
   "display_name": "myenv",
   "language": "python",
   "name": "myenv"
  },
  "language_info": {
   "codemirror_mode": {
    "name": "ipython",
    "version": 3
   },
   "file_extension": ".py",
   "mimetype": "text/x-python",
   "name": "python",
   "nbconvert_exporter": "python",
   "pygments_lexer": "ipython3",
   "version": "3.11.11"
  }
 },
 "nbformat": 4,
 "nbformat_minor": 2
}
